{
 "cells": [
  {
   "cell_type": "markdown",
   "id": "43c14a40",
   "metadata": {},
   "source": [
    "# <b>Availability</b>\n",
    "\n",
    "<b>May 21, 2025</b>"
   ]
  },
  {
   "cell_type": "code",
   "execution_count": 1,
   "id": "4a320d1e",
   "metadata": {},
   "outputs": [],
   "source": [
    "import pandas as pd\n",
    "import numpy as np\n",
    "import datetime as dt\n",
    "import plotly.express as px\n",
    "import matplotlib.pyplot as plt\n",
    "import seaborn as sns\n",
    "\n",
    "import warnings\n",
    "warnings.filterwarnings(\"ignore\")\n",
    "\n",
    "# show all columns\n",
    "pd.set_option('display.max_columns', None)\n",
    "#pd.set_option('display.max_rows', None)"
   ]
  },
  {
   "cell_type": "markdown",
   "id": "7116a517",
   "metadata": {},
   "source": [
    "## <b>Import Datasets & EDA</b>"
   ]
  },
  {
   "cell_type": "code",
   "execution_count": 28,
   "id": "74b91114",
   "metadata": {},
   "outputs": [],
   "source": [
    "df = pd.read_csv(\"active_professional_raw.csv\")\n",
    "data = pd.read_csv(\"professional_calendar_raw.csv\")"
   ]
  },
  {
   "cell_type": "markdown",
   "id": "4fa01f84",
   "metadata": {},
   "source": [
    "<div class=\"alert alert-block alert-success\">\n",
    "<b>active_professional_raw.csv</b> as <b>df</b> shows each individual service provider's start date and layoff date\n",
    "</div>\n"
   ]
  },
  {
   "cell_type": "code",
   "execution_count": 3,
   "id": "e4cc29b9",
   "metadata": {},
   "outputs": [
    {
     "name": "stdout",
     "output_type": "stream",
     "text": [
      "<class 'pandas.core.frame.DataFrame'>\n",
      "RangeIndex: 4357 entries, 0 to 4356\n",
      "Data columns (total 4 columns):\n",
      " #   Column                Non-Null Count  Dtype \n",
      "---  ------                --------------  ----- \n",
      " 0   professional_id       4357 non-null   int64 \n",
      " 1   first_partition_date  4357 non-null   object\n",
      " 2   layoff_date           1348 non-null   object\n",
      " 3   last_booking_date     3502 non-null   object\n",
      "dtypes: int64(1), object(3)\n",
      "memory usage: 136.3+ KB\n"
     ]
    }
   ],
   "source": [
    "df.info()"
   ]
  },
  {
   "cell_type": "code",
   "execution_count": 4,
   "id": "f1210ff2",
   "metadata": {},
   "outputs": [
    {
     "data": {
      "text/html": [
       "<div>\n",
       "<style scoped>\n",
       "    .dataframe tbody tr th:only-of-type {\n",
       "        vertical-align: middle;\n",
       "    }\n",
       "\n",
       "    .dataframe tbody tr th {\n",
       "        vertical-align: top;\n",
       "    }\n",
       "\n",
       "    .dataframe thead th {\n",
       "        text-align: right;\n",
       "    }\n",
       "</style>\n",
       "<table border=\"1\" class=\"dataframe\">\n",
       "  <thead>\n",
       "    <tr style=\"text-align: right;\">\n",
       "      <th></th>\n",
       "      <th>professional_id</th>\n",
       "      <th>first_partition_date</th>\n",
       "      <th>layoff_date</th>\n",
       "      <th>last_booking_date</th>\n",
       "    </tr>\n",
       "  </thead>\n",
       "  <tbody>\n",
       "    <tr>\n",
       "      <th>0</th>\n",
       "      <td>1</td>\n",
       "      <td>2016-01-13 12:00:00</td>\n",
       "      <td>2020-12-08 14:00:02</td>\n",
       "      <td>2020-10-31 07:00:00</td>\n",
       "    </tr>\n",
       "    <tr>\n",
       "      <th>1</th>\n",
       "      <td>3</td>\n",
       "      <td>2021-05-05 17:00:00</td>\n",
       "      <td>2021-05-06 14:00:03</td>\n",
       "      <td>NaN</td>\n",
       "    </tr>\n",
       "    <tr>\n",
       "      <th>2</th>\n",
       "      <td>4</td>\n",
       "      <td>2016-02-04 18:00:30</td>\n",
       "      <td>NaN</td>\n",
       "      <td>2022-09-16 15:00:00</td>\n",
       "    </tr>\n",
       "    <tr>\n",
       "      <th>3</th>\n",
       "      <td>5</td>\n",
       "      <td>2016-03-28 13:00:00</td>\n",
       "      <td>NaN</td>\n",
       "      <td>2030-01-31 00:00:00</td>\n",
       "    </tr>\n",
       "    <tr>\n",
       "      <th>4</th>\n",
       "      <td>6</td>\n",
       "      <td>2016-03-20 14:00:00</td>\n",
       "      <td>NaN</td>\n",
       "      <td>2023-06-26 16:00:00</td>\n",
       "    </tr>\n",
       "    <tr>\n",
       "      <th>...</th>\n",
       "      <td>...</td>\n",
       "      <td>...</td>\n",
       "      <td>...</td>\n",
       "      <td>...</td>\n",
       "    </tr>\n",
       "    <tr>\n",
       "      <th>4352</th>\n",
       "      <td>10991</td>\n",
       "      <td>2024-07-08 08:00:18</td>\n",
       "      <td>NaN</td>\n",
       "      <td>2024-07-08 08:00:18</td>\n",
       "    </tr>\n",
       "    <tr>\n",
       "      <th>4353</th>\n",
       "      <td>11007</td>\n",
       "      <td>2024-07-11 17:19:00</td>\n",
       "      <td>NaN</td>\n",
       "      <td>NaN</td>\n",
       "    </tr>\n",
       "    <tr>\n",
       "      <th>4354</th>\n",
       "      <td>11025</td>\n",
       "      <td>2024-07-23 10:00:12</td>\n",
       "      <td>2025-04-18 16:08:47</td>\n",
       "      <td>2025-02-03 09:00:00</td>\n",
       "    </tr>\n",
       "    <tr>\n",
       "      <th>4355</th>\n",
       "      <td>11068</td>\n",
       "      <td>2024-09-12 08:30:25</td>\n",
       "      <td>NaN</td>\n",
       "      <td>2025-12-21 09:00:42</td>\n",
       "    </tr>\n",
       "    <tr>\n",
       "      <th>4356</th>\n",
       "      <td>11311</td>\n",
       "      <td>2024-10-24 09:00:23</td>\n",
       "      <td>NaN</td>\n",
       "      <td>2024-11-12 11:00:21</td>\n",
       "    </tr>\n",
       "  </tbody>\n",
       "</table>\n",
       "<p>4357 rows × 4 columns</p>\n",
       "</div>"
      ],
      "text/plain": [
       "      professional_id first_partition_date          layoff_date  \\\n",
       "0                   1  2016-01-13 12:00:00  2020-12-08 14:00:02   \n",
       "1                   3  2021-05-05 17:00:00  2021-05-06 14:00:03   \n",
       "2                   4  2016-02-04 18:00:30                  NaN   \n",
       "3                   5  2016-03-28 13:00:00                  NaN   \n",
       "4                   6  2016-03-20 14:00:00                  NaN   \n",
       "...               ...                  ...                  ...   \n",
       "4352            10991  2024-07-08 08:00:18                  NaN   \n",
       "4353            11007  2024-07-11 17:19:00                  NaN   \n",
       "4354            11025  2024-07-23 10:00:12  2025-04-18 16:08:47   \n",
       "4355            11068  2024-09-12 08:30:25                  NaN   \n",
       "4356            11311  2024-10-24 09:00:23                  NaN   \n",
       "\n",
       "        last_booking_date  \n",
       "0     2020-10-31 07:00:00  \n",
       "1                     NaN  \n",
       "2     2022-09-16 15:00:00  \n",
       "3     2030-01-31 00:00:00  \n",
       "4     2023-06-26 16:00:00  \n",
       "...                   ...  \n",
       "4352  2024-07-08 08:00:18  \n",
       "4353                  NaN  \n",
       "4354  2025-02-03 09:00:00  \n",
       "4355  2025-12-21 09:00:42  \n",
       "4356  2024-11-12 11:00:21  \n",
       "\n",
       "[4357 rows x 4 columns]"
      ]
     },
     "execution_count": 4,
     "metadata": {},
     "output_type": "execute_result"
    }
   ],
   "source": [
    "df"
   ]
  },
  {
   "cell_type": "markdown",
   "id": "25927392",
   "metadata": {},
   "source": [
    "### <b>1. Start, Layoff, End Date</b>\n",
    "\n",
    "I'll use df1 to find each service provider start date and last date\n",
    "\n",
    "<div class=\"alert alert-block alert-info\">\n",
    "<b>Note:</b> if last date is in the year 2025 or more, I should set it to be 2024-12-31</div>"
   ]
  },
  {
   "cell_type": "code",
   "execution_count": 36,
   "id": "ae3b7b29",
   "metadata": {},
   "outputs": [
    {
     "data": {
      "text/html": [
       "<div>\n",
       "<style scoped>\n",
       "    .dataframe tbody tr th:only-of-type {\n",
       "        vertical-align: middle;\n",
       "    }\n",
       "\n",
       "    .dataframe tbody tr th {\n",
       "        vertical-align: top;\n",
       "    }\n",
       "\n",
       "    .dataframe thead th {\n",
       "        text-align: right;\n",
       "    }\n",
       "</style>\n",
       "<table border=\"1\" class=\"dataframe\">\n",
       "  <thead>\n",
       "    <tr style=\"text-align: right;\">\n",
       "      <th></th>\n",
       "      <th>professional_id</th>\n",
       "      <th>first_partition_date</th>\n",
       "      <th>layoff_date</th>\n",
       "      <th>last_booking_date</th>\n",
       "    </tr>\n",
       "  </thead>\n",
       "  <tbody>\n",
       "    <tr>\n",
       "      <th>0</th>\n",
       "      <td>1</td>\n",
       "      <td>2016-01-13 12:00:00</td>\n",
       "      <td>2020-12-08 14:00:02</td>\n",
       "      <td>2020-10-31 07:00:00</td>\n",
       "    </tr>\n",
       "    <tr>\n",
       "      <th>1</th>\n",
       "      <td>3</td>\n",
       "      <td>2021-05-05 17:00:00</td>\n",
       "      <td>2021-05-06 14:00:03</td>\n",
       "      <td>NaT</td>\n",
       "    </tr>\n",
       "    <tr>\n",
       "      <th>2</th>\n",
       "      <td>4</td>\n",
       "      <td>2016-02-04 18:00:30</td>\n",
       "      <td>NaN</td>\n",
       "      <td>2022-09-16 15:00:00</td>\n",
       "    </tr>\n",
       "    <tr>\n",
       "      <th>3</th>\n",
       "      <td>5</td>\n",
       "      <td>2016-03-28 13:00:00</td>\n",
       "      <td>NaN</td>\n",
       "      <td>2024-12-31 00:00:00</td>\n",
       "    </tr>\n",
       "    <tr>\n",
       "      <th>4</th>\n",
       "      <td>6</td>\n",
       "      <td>2016-03-20 14:00:00</td>\n",
       "      <td>NaN</td>\n",
       "      <td>2023-06-26 16:00:00</td>\n",
       "    </tr>\n",
       "    <tr>\n",
       "      <th>...</th>\n",
       "      <td>...</td>\n",
       "      <td>...</td>\n",
       "      <td>...</td>\n",
       "      <td>...</td>\n",
       "    </tr>\n",
       "    <tr>\n",
       "      <th>4352</th>\n",
       "      <td>10991</td>\n",
       "      <td>2024-07-08 08:00:18</td>\n",
       "      <td>NaN</td>\n",
       "      <td>2024-07-08 08:00:18</td>\n",
       "    </tr>\n",
       "    <tr>\n",
       "      <th>4353</th>\n",
       "      <td>11007</td>\n",
       "      <td>2024-07-11 17:19:00</td>\n",
       "      <td>NaN</td>\n",
       "      <td>NaT</td>\n",
       "    </tr>\n",
       "    <tr>\n",
       "      <th>4354</th>\n",
       "      <td>11025</td>\n",
       "      <td>2024-07-23 10:00:12</td>\n",
       "      <td>2025-04-18 16:08:47</td>\n",
       "      <td>2024-12-31 00:00:00</td>\n",
       "    </tr>\n",
       "    <tr>\n",
       "      <th>4355</th>\n",
       "      <td>11068</td>\n",
       "      <td>2024-09-12 08:30:25</td>\n",
       "      <td>NaN</td>\n",
       "      <td>2024-12-31 00:00:00</td>\n",
       "    </tr>\n",
       "    <tr>\n",
       "      <th>4356</th>\n",
       "      <td>11311</td>\n",
       "      <td>2024-10-24 09:00:23</td>\n",
       "      <td>NaN</td>\n",
       "      <td>2024-11-12 11:00:21</td>\n",
       "    </tr>\n",
       "  </tbody>\n",
       "</table>\n",
       "<p>4357 rows × 4 columns</p>\n",
       "</div>"
      ],
      "text/plain": [
       "      professional_id first_partition_date          layoff_date  \\\n",
       "0                   1  2016-01-13 12:00:00  2020-12-08 14:00:02   \n",
       "1                   3  2021-05-05 17:00:00  2021-05-06 14:00:03   \n",
       "2                   4  2016-02-04 18:00:30                  NaN   \n",
       "3                   5  2016-03-28 13:00:00                  NaN   \n",
       "4                   6  2016-03-20 14:00:00                  NaN   \n",
       "...               ...                  ...                  ...   \n",
       "4352            10991  2024-07-08 08:00:18                  NaN   \n",
       "4353            11007  2024-07-11 17:19:00                  NaN   \n",
       "4354            11025  2024-07-23 10:00:12  2025-04-18 16:08:47   \n",
       "4355            11068  2024-09-12 08:30:25                  NaN   \n",
       "4356            11311  2024-10-24 09:00:23                  NaN   \n",
       "\n",
       "       last_booking_date  \n",
       "0    2020-10-31 07:00:00  \n",
       "1                    NaT  \n",
       "2    2022-09-16 15:00:00  \n",
       "3    2024-12-31 00:00:00  \n",
       "4    2023-06-26 16:00:00  \n",
       "...                  ...  \n",
       "4352 2024-07-08 08:00:18  \n",
       "4353                 NaT  \n",
       "4354 2024-12-31 00:00:00  \n",
       "4355 2024-12-31 00:00:00  \n",
       "4356 2024-11-12 11:00:21  \n",
       "\n",
       "[4357 rows x 4 columns]"
      ]
     },
     "execution_count": 36,
     "metadata": {},
     "output_type": "execute_result"
    }
   ],
   "source": [
    "df[\"last_booking_date\"] = pd.to_datetime(df[\"last_booking_date\"])\n",
    "cutoff = pd.Timestamp(\"2024-12-31\")\n",
    "\n",
    "df[\"last_booking_date\"] = df[\"last_booking_date\"].apply(lambda x: min(x, cutoff))\n",
    "df"
   ]
  },
  {
   "cell_type": "markdown",
   "id": "bc360958",
   "metadata": {},
   "source": [
    "Which shows each individual service provider's start working date, layoff date, and their last working date"
   ]
  },
  {
   "cell_type": "markdown",
   "id": "8491d0bb",
   "metadata": {},
   "source": [
    "### <b>2. Unavailable Hour</b>\n",
    "\n",
    "Now we'll leave this aside for now, we will focus another dataset about service provider's unavailable hour which the dataset collects when each service provider turns off their working day.\n",
    "\n",
    "Each row in this dataset means service provider has turn off service on that day for X hour (blocked_time) — for maximum blocked_time and availability_hour is 12 hour, if the provider entered blocked_time for a few hours then the availability_hour = (12 - blocked_time)"
   ]
  },
  {
   "cell_type": "code",
   "execution_count": 6,
   "id": "1b28fa4e",
   "metadata": {},
   "outputs": [
    {
     "data": {
      "text/html": [
       "<div>\n",
       "<style scoped>\n",
       "    .dataframe tbody tr th:only-of-type {\n",
       "        vertical-align: middle;\n",
       "    }\n",
       "\n",
       "    .dataframe tbody tr th {\n",
       "        vertical-align: top;\n",
       "    }\n",
       "\n",
       "    .dataframe thead th {\n",
       "        text-align: right;\n",
       "    }\n",
       "</style>\n",
       "<table border=\"1\" class=\"dataframe\">\n",
       "  <thead>\n",
       "    <tr style=\"text-align: right;\">\n",
       "      <th></th>\n",
       "      <th>partition_date</th>\n",
       "      <th>partition_month</th>\n",
       "      <th>professional_id</th>\n",
       "      <th>start_time</th>\n",
       "      <th>end_time</th>\n",
       "      <th>blocked_time</th>\n",
       "      <th>availability_hour</th>\n",
       "    </tr>\n",
       "  </thead>\n",
       "  <tbody>\n",
       "    <tr>\n",
       "      <th>0</th>\n",
       "      <td>2024-01-01</td>\n",
       "      <td>2024-01</td>\n",
       "      <td>1257</td>\n",
       "      <td>NaN</td>\n",
       "      <td>NaN</td>\n",
       "      <td>12.0</td>\n",
       "      <td>0.0</td>\n",
       "    </tr>\n",
       "    <tr>\n",
       "      <th>1</th>\n",
       "      <td>2024-01-02</td>\n",
       "      <td>2024-01</td>\n",
       "      <td>1257</td>\n",
       "      <td>NaN</td>\n",
       "      <td>NaN</td>\n",
       "      <td>12.0</td>\n",
       "      <td>0.0</td>\n",
       "    </tr>\n",
       "    <tr>\n",
       "      <th>2</th>\n",
       "      <td>2024-01-03</td>\n",
       "      <td>2024-01</td>\n",
       "      <td>1257</td>\n",
       "      <td>NaN</td>\n",
       "      <td>NaN</td>\n",
       "      <td>12.0</td>\n",
       "      <td>0.0</td>\n",
       "    </tr>\n",
       "    <tr>\n",
       "      <th>3</th>\n",
       "      <td>2024-01-04</td>\n",
       "      <td>2024-01</td>\n",
       "      <td>1257</td>\n",
       "      <td>NaN</td>\n",
       "      <td>NaN</td>\n",
       "      <td>12.0</td>\n",
       "      <td>0.0</td>\n",
       "    </tr>\n",
       "    <tr>\n",
       "      <th>4</th>\n",
       "      <td>2024-01-05</td>\n",
       "      <td>2024-01</td>\n",
       "      <td>1257</td>\n",
       "      <td>NaN</td>\n",
       "      <td>NaN</td>\n",
       "      <td>12.0</td>\n",
       "      <td>0.0</td>\n",
       "    </tr>\n",
       "    <tr>\n",
       "      <th>...</th>\n",
       "      <td>...</td>\n",
       "      <td>...</td>\n",
       "      <td>...</td>\n",
       "      <td>...</td>\n",
       "      <td>...</td>\n",
       "      <td>...</td>\n",
       "      <td>...</td>\n",
       "    </tr>\n",
       "    <tr>\n",
       "      <th>722402</th>\n",
       "      <td>2024-12-31</td>\n",
       "      <td>2024-12</td>\n",
       "      <td>11210</td>\n",
       "      <td>NaN</td>\n",
       "      <td>NaN</td>\n",
       "      <td>12.0</td>\n",
       "      <td>0.0</td>\n",
       "    </tr>\n",
       "    <tr>\n",
       "      <th>722403</th>\n",
       "      <td>2024-12-30</td>\n",
       "      <td>2024-12</td>\n",
       "      <td>6907</td>\n",
       "      <td>NaN</td>\n",
       "      <td>NaN</td>\n",
       "      <td>12.0</td>\n",
       "      <td>0.0</td>\n",
       "    </tr>\n",
       "    <tr>\n",
       "      <th>722404</th>\n",
       "      <td>2024-12-31</td>\n",
       "      <td>2024-12</td>\n",
       "      <td>6907</td>\n",
       "      <td>NaN</td>\n",
       "      <td>NaN</td>\n",
       "      <td>12.0</td>\n",
       "      <td>0.0</td>\n",
       "    </tr>\n",
       "    <tr>\n",
       "      <th>722405</th>\n",
       "      <td>2024-12-31</td>\n",
       "      <td>2024-12</td>\n",
       "      <td>1727</td>\n",
       "      <td>NaN</td>\n",
       "      <td>NaN</td>\n",
       "      <td>12.0</td>\n",
       "      <td>0.0</td>\n",
       "    </tr>\n",
       "    <tr>\n",
       "      <th>722406</th>\n",
       "      <td>2024-12-31</td>\n",
       "      <td>2024-12</td>\n",
       "      <td>3399</td>\n",
       "      <td>NaN</td>\n",
       "      <td>NaN</td>\n",
       "      <td>12.0</td>\n",
       "      <td>0.0</td>\n",
       "    </tr>\n",
       "  </tbody>\n",
       "</table>\n",
       "<p>722407 rows × 7 columns</p>\n",
       "</div>"
      ],
      "text/plain": [
       "       partition_date partition_month  professional_id start_time end_time  \\\n",
       "0          2024-01-01         2024-01             1257        NaN      NaN   \n",
       "1          2024-01-02         2024-01             1257        NaN      NaN   \n",
       "2          2024-01-03         2024-01             1257        NaN      NaN   \n",
       "3          2024-01-04         2024-01             1257        NaN      NaN   \n",
       "4          2024-01-05         2024-01             1257        NaN      NaN   \n",
       "...               ...             ...              ...        ...      ...   \n",
       "722402     2024-12-31         2024-12            11210        NaN      NaN   \n",
       "722403     2024-12-30         2024-12             6907        NaN      NaN   \n",
       "722404     2024-12-31         2024-12             6907        NaN      NaN   \n",
       "722405     2024-12-31         2024-12             1727        NaN      NaN   \n",
       "722406     2024-12-31         2024-12             3399        NaN      NaN   \n",
       "\n",
       "        blocked_time  availability_hour  \n",
       "0               12.0                0.0  \n",
       "1               12.0                0.0  \n",
       "2               12.0                0.0  \n",
       "3               12.0                0.0  \n",
       "4               12.0                0.0  \n",
       "...              ...                ...  \n",
       "722402          12.0                0.0  \n",
       "722403          12.0                0.0  \n",
       "722404          12.0                0.0  \n",
       "722405          12.0                0.0  \n",
       "722406          12.0                0.0  \n",
       "\n",
       "[722407 rows x 7 columns]"
      ]
     },
     "execution_count": 6,
     "metadata": {},
     "output_type": "execute_result"
    }
   ],
   "source": [
    "data"
   ]
  },
  {
   "cell_type": "code",
   "execution_count": 7,
   "id": "c4c7e62b",
   "metadata": {},
   "outputs": [
    {
     "data": {
      "text/plain": [
       "blocked_time\n",
       "12.0    489727\n",
       "9.0      32653\n",
       "10.0     25593\n",
       "8.0      25322\n",
       "7.0      19346\n",
       "11.0     18888\n",
       "6.0      15558\n",
       "5.0      14311\n",
       "4.0      12771\n",
       "3.0      10031\n",
       "8.5       7681\n",
       "9.5       7295\n",
       "7.5       6298\n",
       "4.5       5725\n",
       "6.5       5297\n",
       "10.5      5259\n",
       "5.5       4493\n",
       "11.5      4214\n",
       "3.5       4123\n",
       "2.0       3575\n",
       "2.5       2099\n",
       "1.0        776\n",
       "0.0        723\n",
       "0.5        421\n",
       "1.5        228\n",
       "Name: count, dtype: int64"
      ]
     },
     "execution_count": 7,
     "metadata": {},
     "output_type": "execute_result"
    }
   ],
   "source": [
    "data.blocked_time.value_counts()"
   ]
  },
  {
   "cell_type": "code",
   "execution_count": 8,
   "id": "9106af9b",
   "metadata": {},
   "outputs": [
    {
     "data": {
      "text/plain": [
       "availability_hour\n",
       "0.0     489727\n",
       "3.0      32653\n",
       "2.0      25593\n",
       "4.0      25322\n",
       "5.0      19346\n",
       "1.0      18888\n",
       "6.0      15558\n",
       "7.0      14311\n",
       "8.0      12771\n",
       "9.0      10031\n",
       "3.5       7681\n",
       "2.5       7295\n",
       "4.5       6298\n",
       "7.5       5725\n",
       "5.5       5297\n",
       "1.5       5259\n",
       "6.5       4493\n",
       "0.5       4214\n",
       "8.5       4123\n",
       "10.0      3575\n",
       "9.5       2099\n",
       "11.0       776\n",
       "12.0       723\n",
       "11.5       421\n",
       "10.5       228\n",
       "Name: count, dtype: int64"
      ]
     },
     "execution_count": 8,
     "metadata": {},
     "output_type": "execute_result"
    }
   ],
   "source": [
    "data.availability_hour.value_counts()"
   ]
  },
  {
   "cell_type": "code",
   "execution_count": 9,
   "id": "8c1adce5",
   "metadata": {},
   "outputs": [
    {
     "data": {
      "text/plain": [
       "'2024-01-01'"
      ]
     },
     "execution_count": 9,
     "metadata": {},
     "output_type": "execute_result"
    }
   ],
   "source": [
    "data.partition_date.min()"
   ]
  },
  {
   "cell_type": "code",
   "execution_count": 10,
   "id": "65d0cd74",
   "metadata": {},
   "outputs": [
    {
     "data": {
      "text/plain": [
       "'2024-12-31'"
      ]
     },
     "execution_count": 10,
     "metadata": {},
     "output_type": "execute_result"
    }
   ],
   "source": [
    "data.partition_date.max()"
   ]
  },
  {
   "cell_type": "markdown",
   "id": "53b15974",
   "metadata": {},
   "source": [
    "#### <b>2.1 Generate a Date Dataset</b>\n",
    "From 2024-01-01 to 2024-12-31 generate a new dataset that contain only the date from 2024-01-01 to 2024-12-31 in rows similar to partition_date in \"data\", so that we can join with the \"data\" to show the whole calendar of availability of each individual service provider."
   ]
  },
  {
   "cell_type": "code",
   "execution_count": 11,
   "id": "48f7d386",
   "metadata": {},
   "outputs": [
    {
     "data": {
      "text/html": [
       "<div>\n",
       "<style scoped>\n",
       "    .dataframe tbody tr th:only-of-type {\n",
       "        vertical-align: middle;\n",
       "    }\n",
       "\n",
       "    .dataframe tbody tr th {\n",
       "        vertical-align: top;\n",
       "    }\n",
       "\n",
       "    .dataframe thead th {\n",
       "        text-align: right;\n",
       "    }\n",
       "</style>\n",
       "<table border=\"1\" class=\"dataframe\">\n",
       "  <thead>\n",
       "    <tr style=\"text-align: right;\">\n",
       "      <th></th>\n",
       "      <th>partition_date</th>\n",
       "    </tr>\n",
       "  </thead>\n",
       "  <tbody>\n",
       "    <tr>\n",
       "      <th>0</th>\n",
       "      <td>2024-01-01</td>\n",
       "    </tr>\n",
       "    <tr>\n",
       "      <th>1</th>\n",
       "      <td>2024-01-02</td>\n",
       "    </tr>\n",
       "    <tr>\n",
       "      <th>2</th>\n",
       "      <td>2024-01-03</td>\n",
       "    </tr>\n",
       "    <tr>\n",
       "      <th>3</th>\n",
       "      <td>2024-01-04</td>\n",
       "    </tr>\n",
       "    <tr>\n",
       "      <th>4</th>\n",
       "      <td>2024-01-05</td>\n",
       "    </tr>\n",
       "    <tr>\n",
       "      <th>...</th>\n",
       "      <td>...</td>\n",
       "    </tr>\n",
       "    <tr>\n",
       "      <th>361</th>\n",
       "      <td>2024-12-27</td>\n",
       "    </tr>\n",
       "    <tr>\n",
       "      <th>362</th>\n",
       "      <td>2024-12-28</td>\n",
       "    </tr>\n",
       "    <tr>\n",
       "      <th>363</th>\n",
       "      <td>2024-12-29</td>\n",
       "    </tr>\n",
       "    <tr>\n",
       "      <th>364</th>\n",
       "      <td>2024-12-30</td>\n",
       "    </tr>\n",
       "    <tr>\n",
       "      <th>365</th>\n",
       "      <td>2024-12-31</td>\n",
       "    </tr>\n",
       "  </tbody>\n",
       "</table>\n",
       "<p>366 rows × 1 columns</p>\n",
       "</div>"
      ],
      "text/plain": [
       "    partition_date\n",
       "0       2024-01-01\n",
       "1       2024-01-02\n",
       "2       2024-01-03\n",
       "3       2024-01-04\n",
       "4       2024-01-05\n",
       "..             ...\n",
       "361     2024-12-27\n",
       "362     2024-12-28\n",
       "363     2024-12-29\n",
       "364     2024-12-30\n",
       "365     2024-12-31\n",
       "\n",
       "[366 rows x 1 columns]"
      ]
     },
     "execution_count": 11,
     "metadata": {},
     "output_type": "execute_result"
    }
   ],
   "source": [
    "# Generate a daily date range for the year 2024\n",
    "calendar = pd.DataFrame({\"partition_date\": pd.date_range(start=\"2024-01-01\", end=\"2024-12-31\", freq=\"D\")})\n",
    "calendar"
   ]
  },
  {
   "cell_type": "code",
   "execution_count": 12,
   "id": "8bcbfdf7",
   "metadata": {},
   "outputs": [],
   "source": [
    "# Extract partition_month in the same format as in your \"data\"\n",
    "#calendar[\"partition_month\"] = calendar[\"partition_date\"].dt.to_period(\"M\").astype(str)\n",
    "#calendar"
   ]
  },
  {
   "cell_type": "markdown",
   "id": "5eb6a5bb",
   "metadata": {},
   "source": [
    "#### <b>2.2 Join partition_date on data</b>"
   ]
  },
  {
   "cell_type": "code",
   "execution_count": 13,
   "id": "d87b5d86",
   "metadata": {},
   "outputs": [
    {
     "data": {
      "text/html": [
       "<div>\n",
       "<style scoped>\n",
       "    .dataframe tbody tr th:only-of-type {\n",
       "        vertical-align: middle;\n",
       "    }\n",
       "\n",
       "    .dataframe tbody tr th {\n",
       "        vertical-align: top;\n",
       "    }\n",
       "\n",
       "    .dataframe thead th {\n",
       "        text-align: right;\n",
       "    }\n",
       "</style>\n",
       "<table border=\"1\" class=\"dataframe\">\n",
       "  <thead>\n",
       "    <tr style=\"text-align: right;\">\n",
       "      <th></th>\n",
       "      <th>professional_id</th>\n",
       "      <th>partition_date</th>\n",
       "    </tr>\n",
       "  </thead>\n",
       "  <tbody>\n",
       "    <tr>\n",
       "      <th>0</th>\n",
       "      <td>1257</td>\n",
       "      <td>2024-01-01</td>\n",
       "    </tr>\n",
       "    <tr>\n",
       "      <th>1</th>\n",
       "      <td>1257</td>\n",
       "      <td>2024-01-02</td>\n",
       "    </tr>\n",
       "    <tr>\n",
       "      <th>2</th>\n",
       "      <td>1257</td>\n",
       "      <td>2024-01-03</td>\n",
       "    </tr>\n",
       "    <tr>\n",
       "      <th>3</th>\n",
       "      <td>1257</td>\n",
       "      <td>2024-01-04</td>\n",
       "    </tr>\n",
       "    <tr>\n",
       "      <th>4</th>\n",
       "      <td>1257</td>\n",
       "      <td>2024-01-05</td>\n",
       "    </tr>\n",
       "    <tr>\n",
       "      <th>...</th>\n",
       "      <td>...</td>\n",
       "      <td>...</td>\n",
       "    </tr>\n",
       "    <tr>\n",
       "      <th>1578187</th>\n",
       "      <td>12049</td>\n",
       "      <td>2024-12-27</td>\n",
       "    </tr>\n",
       "    <tr>\n",
       "      <th>1578188</th>\n",
       "      <td>12049</td>\n",
       "      <td>2024-12-28</td>\n",
       "    </tr>\n",
       "    <tr>\n",
       "      <th>1578189</th>\n",
       "      <td>12049</td>\n",
       "      <td>2024-12-29</td>\n",
       "    </tr>\n",
       "    <tr>\n",
       "      <th>1578190</th>\n",
       "      <td>12049</td>\n",
       "      <td>2024-12-30</td>\n",
       "    </tr>\n",
       "    <tr>\n",
       "      <th>1578191</th>\n",
       "      <td>12049</td>\n",
       "      <td>2024-12-31</td>\n",
       "    </tr>\n",
       "  </tbody>\n",
       "</table>\n",
       "<p>1578192 rows × 2 columns</p>\n",
       "</div>"
      ],
      "text/plain": [
       "         professional_id partition_date\n",
       "0                   1257     2024-01-01\n",
       "1                   1257     2024-01-02\n",
       "2                   1257     2024-01-03\n",
       "3                   1257     2024-01-04\n",
       "4                   1257     2024-01-05\n",
       "...                  ...            ...\n",
       "1578187            12049     2024-12-27\n",
       "1578188            12049     2024-12-28\n",
       "1578189            12049     2024-12-29\n",
       "1578190            12049     2024-12-30\n",
       "1578191            12049     2024-12-31\n",
       "\n",
       "[1578192 rows x 2 columns]"
      ]
     },
     "execution_count": 13,
     "metadata": {},
     "output_type": "execute_result"
    }
   ],
   "source": [
    "# Get unique provider IDs from data\n",
    "provider_ids = data[\"professional_id\"].unique()\n",
    "\n",
    "# Create a full 2024 calendar\n",
    "calendar = pd.DataFrame({\"partition_date\": pd.date_range(\"2024-01-01\", \"2024-12-31\")})\n",
    "\n",
    "# Create full cross join of provider IDs with all dates\n",
    "full_calendar = pd.merge(\n",
    "    pd.DataFrame({\"professional_id\": provider_ids}),\n",
    "    calendar,\n",
    "    how=\"cross\" # requires pandas >= 1.2.0\n",
    ")\n",
    "\n",
    "full_calendar"
   ]
  },
  {
   "cell_type": "code",
   "execution_count": 14,
   "id": "4b1cb5a2",
   "metadata": {},
   "outputs": [
    {
     "data": {
      "text/html": [
       "<div>\n",
       "<style scoped>\n",
       "    .dataframe tbody tr th:only-of-type {\n",
       "        vertical-align: middle;\n",
       "    }\n",
       "\n",
       "    .dataframe tbody tr th {\n",
       "        vertical-align: top;\n",
       "    }\n",
       "\n",
       "    .dataframe thead th {\n",
       "        text-align: right;\n",
       "    }\n",
       "</style>\n",
       "<table border=\"1\" class=\"dataframe\">\n",
       "  <thead>\n",
       "    <tr style=\"text-align: right;\">\n",
       "      <th></th>\n",
       "      <th>professional_id</th>\n",
       "      <th>partition_date</th>\n",
       "      <th>partition_month</th>\n",
       "      <th>start_time</th>\n",
       "      <th>end_time</th>\n",
       "      <th>blocked_time</th>\n",
       "      <th>availability_hour</th>\n",
       "    </tr>\n",
       "  </thead>\n",
       "  <tbody>\n",
       "    <tr>\n",
       "      <th>0</th>\n",
       "      <td>1257</td>\n",
       "      <td>2024-01-01</td>\n",
       "      <td>2024-01</td>\n",
       "      <td>NaN</td>\n",
       "      <td>NaN</td>\n",
       "      <td>12.0</td>\n",
       "      <td>0.0</td>\n",
       "    </tr>\n",
       "    <tr>\n",
       "      <th>1</th>\n",
       "      <td>1257</td>\n",
       "      <td>2024-01-02</td>\n",
       "      <td>2024-01</td>\n",
       "      <td>NaN</td>\n",
       "      <td>NaN</td>\n",
       "      <td>12.0</td>\n",
       "      <td>0.0</td>\n",
       "    </tr>\n",
       "    <tr>\n",
       "      <th>2</th>\n",
       "      <td>1257</td>\n",
       "      <td>2024-01-03</td>\n",
       "      <td>2024-01</td>\n",
       "      <td>NaN</td>\n",
       "      <td>NaN</td>\n",
       "      <td>12.0</td>\n",
       "      <td>0.0</td>\n",
       "    </tr>\n",
       "    <tr>\n",
       "      <th>3</th>\n",
       "      <td>1257</td>\n",
       "      <td>2024-01-04</td>\n",
       "      <td>2024-01</td>\n",
       "      <td>NaN</td>\n",
       "      <td>NaN</td>\n",
       "      <td>12.0</td>\n",
       "      <td>0.0</td>\n",
       "    </tr>\n",
       "    <tr>\n",
       "      <th>4</th>\n",
       "      <td>1257</td>\n",
       "      <td>2024-01-05</td>\n",
       "      <td>2024-01</td>\n",
       "      <td>NaN</td>\n",
       "      <td>NaN</td>\n",
       "      <td>12.0</td>\n",
       "      <td>0.0</td>\n",
       "    </tr>\n",
       "    <tr>\n",
       "      <th>...</th>\n",
       "      <td>...</td>\n",
       "      <td>...</td>\n",
       "      <td>...</td>\n",
       "      <td>...</td>\n",
       "      <td>...</td>\n",
       "      <td>...</td>\n",
       "      <td>...</td>\n",
       "    </tr>\n",
       "    <tr>\n",
       "      <th>1580273</th>\n",
       "      <td>12049</td>\n",
       "      <td>2024-12-27</td>\n",
       "      <td>2024-12</td>\n",
       "      <td>NaN</td>\n",
       "      <td>NaN</td>\n",
       "      <td>12.0</td>\n",
       "      <td>0.0</td>\n",
       "    </tr>\n",
       "    <tr>\n",
       "      <th>1580274</th>\n",
       "      <td>12049</td>\n",
       "      <td>2024-12-28</td>\n",
       "      <td>2024-12</td>\n",
       "      <td>NaN</td>\n",
       "      <td>NaN</td>\n",
       "      <td>12.0</td>\n",
       "      <td>0.0</td>\n",
       "    </tr>\n",
       "    <tr>\n",
       "      <th>1580275</th>\n",
       "      <td>12049</td>\n",
       "      <td>2024-12-29</td>\n",
       "      <td>2024-12</td>\n",
       "      <td>NaN</td>\n",
       "      <td>NaN</td>\n",
       "      <td>12.0</td>\n",
       "      <td>0.0</td>\n",
       "    </tr>\n",
       "    <tr>\n",
       "      <th>1580276</th>\n",
       "      <td>12049</td>\n",
       "      <td>2024-12-30</td>\n",
       "      <td>2024-12</td>\n",
       "      <td>NaN</td>\n",
       "      <td>NaN</td>\n",
       "      <td>12.0</td>\n",
       "      <td>0.0</td>\n",
       "    </tr>\n",
       "    <tr>\n",
       "      <th>1580277</th>\n",
       "      <td>12049</td>\n",
       "      <td>2024-12-31</td>\n",
       "      <td>2024-12</td>\n",
       "      <td>NaN</td>\n",
       "      <td>NaN</td>\n",
       "      <td>12.0</td>\n",
       "      <td>0.0</td>\n",
       "    </tr>\n",
       "  </tbody>\n",
       "</table>\n",
       "<p>1580278 rows × 7 columns</p>\n",
       "</div>"
      ],
      "text/plain": [
       "         professional_id partition_date partition_month start_time end_time  \\\n",
       "0                   1257     2024-01-01         2024-01        NaN      NaN   \n",
       "1                   1257     2024-01-02         2024-01        NaN      NaN   \n",
       "2                   1257     2024-01-03         2024-01        NaN      NaN   \n",
       "3                   1257     2024-01-04         2024-01        NaN      NaN   \n",
       "4                   1257     2024-01-05         2024-01        NaN      NaN   \n",
       "...                  ...            ...             ...        ...      ...   \n",
       "1580273            12049     2024-12-27         2024-12        NaN      NaN   \n",
       "1580274            12049     2024-12-28         2024-12        NaN      NaN   \n",
       "1580275            12049     2024-12-29         2024-12        NaN      NaN   \n",
       "1580276            12049     2024-12-30         2024-12        NaN      NaN   \n",
       "1580277            12049     2024-12-31         2024-12        NaN      NaN   \n",
       "\n",
       "         blocked_time  availability_hour  \n",
       "0                12.0                0.0  \n",
       "1                12.0                0.0  \n",
       "2                12.0                0.0  \n",
       "3                12.0                0.0  \n",
       "4                12.0                0.0  \n",
       "...               ...                ...  \n",
       "1580273          12.0                0.0  \n",
       "1580274          12.0                0.0  \n",
       "1580275          12.0                0.0  \n",
       "1580276          12.0                0.0  \n",
       "1580277          12.0                0.0  \n",
       "\n",
       "[1580278 rows x 7 columns]"
      ]
     },
     "execution_count": 14,
     "metadata": {},
     "output_type": "execute_result"
    }
   ],
   "source": [
    "# Change partiton_date's data type to datetime\n",
    "data[\"partition_date\"] = pd.to_datetime(data[\"partition_date\"])\n",
    "\n",
    "# Finally, merge with the original data to attach availability info\n",
    "full_availability = pd.merge(\n",
    "    full_calendar,\n",
    "    data,\n",
    "    on=[\"professional_id\", \"partition_date\"],\n",
    "    how=\"left\" # ensures all provider-date pairs are kept\n",
    ")\n",
    "\n",
    "full_availability"
   ]
  },
  {
   "cell_type": "markdown",
   "id": "21b5667b",
   "metadata": {},
   "source": [
    "##### <b>Data Auditing (After Joining)</b>\n",
    "\n",
    "<b>start_time</b> and <b>end_time</b> will have their value when blocked_time is not 12.0"
   ]
  },
  {
   "cell_type": "code",
   "execution_count": null,
   "id": "b44b9bae",
   "metadata": {},
   "outputs": [
    {
     "data": {
      "text/plain": [
       "blocked_time\n",
       "12.0    352\n",
       "9.0      14\n",
       "Name: count, dtype: int64"
      ]
     },
     "execution_count": 17,
     "metadata": {},
     "output_type": "execute_result"
    }
   ],
   "source": [
    "full_availability[full_availability[\"professional_id\"] == 1257].blocked_time.value_counts()"
   ]
  },
  {
   "cell_type": "code",
   "execution_count": 18,
   "id": "ddd156bd",
   "metadata": {},
   "outputs": [
    {
     "data": {
      "text/html": [
       "<div>\n",
       "<style scoped>\n",
       "    .dataframe tbody tr th:only-of-type {\n",
       "        vertical-align: middle;\n",
       "    }\n",
       "\n",
       "    .dataframe tbody tr th {\n",
       "        vertical-align: top;\n",
       "    }\n",
       "\n",
       "    .dataframe thead th {\n",
       "        text-align: right;\n",
       "    }\n",
       "</style>\n",
       "<table border=\"1\" class=\"dataframe\">\n",
       "  <thead>\n",
       "    <tr style=\"text-align: right;\">\n",
       "      <th></th>\n",
       "      <th>professional_id</th>\n",
       "      <th>partition_date</th>\n",
       "      <th>partition_month</th>\n",
       "      <th>start_time</th>\n",
       "      <th>end_time</th>\n",
       "      <th>blocked_time</th>\n",
       "      <th>availability_hour</th>\n",
       "    </tr>\n",
       "  </thead>\n",
       "  <tbody>\n",
       "    <tr>\n",
       "      <th>160</th>\n",
       "      <td>1257</td>\n",
       "      <td>2024-06-09</td>\n",
       "      <td>2024-06</td>\n",
       "      <td>10:00</td>\n",
       "      <td>19:00</td>\n",
       "      <td>9.0</td>\n",
       "      <td>3.0</td>\n",
       "    </tr>\n",
       "    <tr>\n",
       "      <th>166</th>\n",
       "      <td>1257</td>\n",
       "      <td>2024-06-15</td>\n",
       "      <td>2024-06</td>\n",
       "      <td>10:00</td>\n",
       "      <td>19:00</td>\n",
       "      <td>9.0</td>\n",
       "      <td>3.0</td>\n",
       "    </tr>\n",
       "    <tr>\n",
       "      <th>167</th>\n",
       "      <td>1257</td>\n",
       "      <td>2024-06-16</td>\n",
       "      <td>2024-06</td>\n",
       "      <td>10:00</td>\n",
       "      <td>19:00</td>\n",
       "      <td>9.0</td>\n",
       "      <td>3.0</td>\n",
       "    </tr>\n",
       "    <tr>\n",
       "      <th>173</th>\n",
       "      <td>1257</td>\n",
       "      <td>2024-06-22</td>\n",
       "      <td>2024-06</td>\n",
       "      <td>10:00</td>\n",
       "      <td>19:00</td>\n",
       "      <td>9.0</td>\n",
       "      <td>3.0</td>\n",
       "    </tr>\n",
       "    <tr>\n",
       "      <th>174</th>\n",
       "      <td>1257</td>\n",
       "      <td>2024-06-23</td>\n",
       "      <td>2024-06</td>\n",
       "      <td>10:00</td>\n",
       "      <td>19:00</td>\n",
       "      <td>9.0</td>\n",
       "      <td>3.0</td>\n",
       "    </tr>\n",
       "    <tr>\n",
       "      <th>181</th>\n",
       "      <td>1257</td>\n",
       "      <td>2024-06-30</td>\n",
       "      <td>2024-06</td>\n",
       "      <td>10:00</td>\n",
       "      <td>19:00</td>\n",
       "      <td>9.0</td>\n",
       "      <td>3.0</td>\n",
       "    </tr>\n",
       "    <tr>\n",
       "      <th>187</th>\n",
       "      <td>1257</td>\n",
       "      <td>2024-07-06</td>\n",
       "      <td>2024-07</td>\n",
       "      <td>10:00</td>\n",
       "      <td>19:00</td>\n",
       "      <td>9.0</td>\n",
       "      <td>3.0</td>\n",
       "    </tr>\n",
       "    <tr>\n",
       "      <th>188</th>\n",
       "      <td>1257</td>\n",
       "      <td>2024-07-07</td>\n",
       "      <td>2024-07</td>\n",
       "      <td>10:00</td>\n",
       "      <td>19:00</td>\n",
       "      <td>9.0</td>\n",
       "      <td>3.0</td>\n",
       "    </tr>\n",
       "    <tr>\n",
       "      <th>194</th>\n",
       "      <td>1257</td>\n",
       "      <td>2024-07-13</td>\n",
       "      <td>2024-07</td>\n",
       "      <td>10:00</td>\n",
       "      <td>19:00</td>\n",
       "      <td>9.0</td>\n",
       "      <td>3.0</td>\n",
       "    </tr>\n",
       "    <tr>\n",
       "      <th>195</th>\n",
       "      <td>1257</td>\n",
       "      <td>2024-07-14</td>\n",
       "      <td>2024-07</td>\n",
       "      <td>10:00</td>\n",
       "      <td>19:00</td>\n",
       "      <td>9.0</td>\n",
       "      <td>3.0</td>\n",
       "    </tr>\n",
       "    <tr>\n",
       "      <th>201</th>\n",
       "      <td>1257</td>\n",
       "      <td>2024-07-20</td>\n",
       "      <td>2024-07</td>\n",
       "      <td>10:00</td>\n",
       "      <td>19:00</td>\n",
       "      <td>9.0</td>\n",
       "      <td>3.0</td>\n",
       "    </tr>\n",
       "    <tr>\n",
       "      <th>202</th>\n",
       "      <td>1257</td>\n",
       "      <td>2024-07-21</td>\n",
       "      <td>2024-07</td>\n",
       "      <td>10:00</td>\n",
       "      <td>19:00</td>\n",
       "      <td>9.0</td>\n",
       "      <td>3.0</td>\n",
       "    </tr>\n",
       "    <tr>\n",
       "      <th>208</th>\n",
       "      <td>1257</td>\n",
       "      <td>2024-07-27</td>\n",
       "      <td>2024-07</td>\n",
       "      <td>10:00</td>\n",
       "      <td>19:00</td>\n",
       "      <td>9.0</td>\n",
       "      <td>3.0</td>\n",
       "    </tr>\n",
       "    <tr>\n",
       "      <th>209</th>\n",
       "      <td>1257</td>\n",
       "      <td>2024-07-28</td>\n",
       "      <td>2024-07</td>\n",
       "      <td>10:00</td>\n",
       "      <td>19:00</td>\n",
       "      <td>9.0</td>\n",
       "      <td>3.0</td>\n",
       "    </tr>\n",
       "  </tbody>\n",
       "</table>\n",
       "</div>"
      ],
      "text/plain": [
       "     professional_id partition_date partition_month start_time end_time  \\\n",
       "160             1257     2024-06-09         2024-06      10:00    19:00   \n",
       "166             1257     2024-06-15         2024-06      10:00    19:00   \n",
       "167             1257     2024-06-16         2024-06      10:00    19:00   \n",
       "173             1257     2024-06-22         2024-06      10:00    19:00   \n",
       "174             1257     2024-06-23         2024-06      10:00    19:00   \n",
       "181             1257     2024-06-30         2024-06      10:00    19:00   \n",
       "187             1257     2024-07-06         2024-07      10:00    19:00   \n",
       "188             1257     2024-07-07         2024-07      10:00    19:00   \n",
       "194             1257     2024-07-13         2024-07      10:00    19:00   \n",
       "195             1257     2024-07-14         2024-07      10:00    19:00   \n",
       "201             1257     2024-07-20         2024-07      10:00    19:00   \n",
       "202             1257     2024-07-21         2024-07      10:00    19:00   \n",
       "208             1257     2024-07-27         2024-07      10:00    19:00   \n",
       "209             1257     2024-07-28         2024-07      10:00    19:00   \n",
       "\n",
       "     blocked_time  availability_hour  \n",
       "160           9.0                3.0  \n",
       "166           9.0                3.0  \n",
       "167           9.0                3.0  \n",
       "173           9.0                3.0  \n",
       "174           9.0                3.0  \n",
       "181           9.0                3.0  \n",
       "187           9.0                3.0  \n",
       "188           9.0                3.0  \n",
       "194           9.0                3.0  \n",
       "195           9.0                3.0  \n",
       "201           9.0                3.0  \n",
       "202           9.0                3.0  \n",
       "208           9.0                3.0  \n",
       "209           9.0                3.0  "
      ]
     },
     "execution_count": 18,
     "metadata": {},
     "output_type": "execute_result"
    }
   ],
   "source": [
    "full_availability[(full_availability[\"professional_id\"] == 1257) & (full_availability[\"blocked_time\"] == 9.0)]"
   ]
  },
  {
   "cell_type": "markdown",
   "id": "33ba2f09",
   "metadata": {},
   "source": [
    "This service provider has a lot of Available days — NaN value in <b>blocked_time</b> and <b>availibility_hour</b>"
   ]
  },
  {
   "cell_type": "code",
   "execution_count": 33,
   "id": "46207b28",
   "metadata": {},
   "outputs": [
    {
     "data": {
      "text/plain": [
       "blocked_time\n",
       "6.5     69\n",
       "12.0    51\n",
       "Name: count, dtype: int64"
      ]
     },
     "execution_count": 33,
     "metadata": {},
     "output_type": "execute_result"
    }
   ],
   "source": [
    "full_availability[full_availability[\"professional_id\"] == 11210].blocked_time.value_counts()"
   ]
  },
  {
   "cell_type": "code",
   "execution_count": 34,
   "id": "805f5105",
   "metadata": {},
   "outputs": [
    {
     "data": {
      "text/html": [
       "<div>\n",
       "<style scoped>\n",
       "    .dataframe tbody tr th:only-of-type {\n",
       "        vertical-align: middle;\n",
       "    }\n",
       "\n",
       "    .dataframe tbody tr th {\n",
       "        vertical-align: top;\n",
       "    }\n",
       "\n",
       "    .dataframe thead th {\n",
       "        text-align: right;\n",
       "    }\n",
       "</style>\n",
       "<table border=\"1\" class=\"dataframe\">\n",
       "  <thead>\n",
       "    <tr style=\"text-align: right;\">\n",
       "      <th></th>\n",
       "      <th>professional_id</th>\n",
       "      <th>partition_date</th>\n",
       "      <th>partition_month</th>\n",
       "      <th>start_time</th>\n",
       "      <th>end_time</th>\n",
       "      <th>blocked_time</th>\n",
       "      <th>availability_hour</th>\n",
       "    </tr>\n",
       "  </thead>\n",
       "  <tbody>\n",
       "    <tr>\n",
       "      <th>1255556</th>\n",
       "      <td>11210</td>\n",
       "      <td>2024-01-01</td>\n",
       "      <td>NaN</td>\n",
       "      <td>NaN</td>\n",
       "      <td>NaN</td>\n",
       "      <td>NaN</td>\n",
       "      <td>NaN</td>\n",
       "    </tr>\n",
       "    <tr>\n",
       "      <th>1255557</th>\n",
       "      <td>11210</td>\n",
       "      <td>2024-01-02</td>\n",
       "      <td>NaN</td>\n",
       "      <td>NaN</td>\n",
       "      <td>NaN</td>\n",
       "      <td>NaN</td>\n",
       "      <td>NaN</td>\n",
       "    </tr>\n",
       "    <tr>\n",
       "      <th>1255558</th>\n",
       "      <td>11210</td>\n",
       "      <td>2024-01-03</td>\n",
       "      <td>NaN</td>\n",
       "      <td>NaN</td>\n",
       "      <td>NaN</td>\n",
       "      <td>NaN</td>\n",
       "      <td>NaN</td>\n",
       "    </tr>\n",
       "    <tr>\n",
       "      <th>1255559</th>\n",
       "      <td>11210</td>\n",
       "      <td>2024-01-04</td>\n",
       "      <td>NaN</td>\n",
       "      <td>NaN</td>\n",
       "      <td>NaN</td>\n",
       "      <td>NaN</td>\n",
       "      <td>NaN</td>\n",
       "    </tr>\n",
       "    <tr>\n",
       "      <th>1255560</th>\n",
       "      <td>11210</td>\n",
       "      <td>2024-01-05</td>\n",
       "      <td>NaN</td>\n",
       "      <td>NaN</td>\n",
       "      <td>NaN</td>\n",
       "      <td>NaN</td>\n",
       "      <td>NaN</td>\n",
       "    </tr>\n",
       "    <tr>\n",
       "      <th>...</th>\n",
       "      <td>...</td>\n",
       "      <td>...</td>\n",
       "      <td>...</td>\n",
       "      <td>...</td>\n",
       "      <td>...</td>\n",
       "      <td>...</td>\n",
       "      <td>...</td>\n",
       "    </tr>\n",
       "    <tr>\n",
       "      <th>1255917</th>\n",
       "      <td>11210</td>\n",
       "      <td>2024-12-27</td>\n",
       "      <td>NaN</td>\n",
       "      <td>NaN</td>\n",
       "      <td>NaN</td>\n",
       "      <td>NaN</td>\n",
       "      <td>NaN</td>\n",
       "    </tr>\n",
       "    <tr>\n",
       "      <th>1255918</th>\n",
       "      <td>11210</td>\n",
       "      <td>2024-12-28</td>\n",
       "      <td>NaN</td>\n",
       "      <td>NaN</td>\n",
       "      <td>NaN</td>\n",
       "      <td>NaN</td>\n",
       "      <td>NaN</td>\n",
       "    </tr>\n",
       "    <tr>\n",
       "      <th>1255919</th>\n",
       "      <td>11210</td>\n",
       "      <td>2024-12-29</td>\n",
       "      <td>NaN</td>\n",
       "      <td>NaN</td>\n",
       "      <td>NaN</td>\n",
       "      <td>NaN</td>\n",
       "      <td>NaN</td>\n",
       "    </tr>\n",
       "    <tr>\n",
       "      <th>1255920</th>\n",
       "      <td>11210</td>\n",
       "      <td>2024-12-30</td>\n",
       "      <td>NaN</td>\n",
       "      <td>NaN</td>\n",
       "      <td>NaN</td>\n",
       "      <td>NaN</td>\n",
       "      <td>NaN</td>\n",
       "    </tr>\n",
       "    <tr>\n",
       "      <th>1255921</th>\n",
       "      <td>11210</td>\n",
       "      <td>2024-12-31</td>\n",
       "      <td>2024-12</td>\n",
       "      <td>NaN</td>\n",
       "      <td>NaN</td>\n",
       "      <td>12.0</td>\n",
       "      <td>0.0</td>\n",
       "    </tr>\n",
       "  </tbody>\n",
       "</table>\n",
       "<p>366 rows × 7 columns</p>\n",
       "</div>"
      ],
      "text/plain": [
       "         professional_id partition_date partition_month start_time end_time  \\\n",
       "1255556            11210     2024-01-01             NaN        NaN      NaN   \n",
       "1255557            11210     2024-01-02             NaN        NaN      NaN   \n",
       "1255558            11210     2024-01-03             NaN        NaN      NaN   \n",
       "1255559            11210     2024-01-04             NaN        NaN      NaN   \n",
       "1255560            11210     2024-01-05             NaN        NaN      NaN   \n",
       "...                  ...            ...             ...        ...      ...   \n",
       "1255917            11210     2024-12-27             NaN        NaN      NaN   \n",
       "1255918            11210     2024-12-28             NaN        NaN      NaN   \n",
       "1255919            11210     2024-12-29             NaN        NaN      NaN   \n",
       "1255920            11210     2024-12-30             NaN        NaN      NaN   \n",
       "1255921            11210     2024-12-31         2024-12        NaN      NaN   \n",
       "\n",
       "         blocked_time  availability_hour  \n",
       "1255556           NaN                NaN  \n",
       "1255557           NaN                NaN  \n",
       "1255558           NaN                NaN  \n",
       "1255559           NaN                NaN  \n",
       "1255560           NaN                NaN  \n",
       "...               ...                ...  \n",
       "1255917           NaN                NaN  \n",
       "1255918           NaN                NaN  \n",
       "1255919           NaN                NaN  \n",
       "1255920           NaN                NaN  \n",
       "1255921          12.0                0.0  \n",
       "\n",
       "[366 rows x 7 columns]"
      ]
     },
     "execution_count": 34,
     "metadata": {},
     "output_type": "execute_result"
    }
   ],
   "source": [
    "full_availability[full_availability[\"professional_id\"] == 11210]"
   ]
  },
  {
   "cell_type": "markdown",
   "id": "4d4ae2a1",
   "metadata": {},
   "source": [
    "#### <b>2.3 Available Days</b>\n",
    "\n",
    "Those NaNs found in the <b>blocked_time</b> and <b>availability_hour</b> meaning they are available on that day — replace all NaN in <b>blocked_time</b> with 0.0 and <b>availability_hour</b> with 12.0"
   ]
  },
  {
   "cell_type": "code",
   "execution_count": null,
   "id": "b2dcd6a4",
   "metadata": {},
   "outputs": [
    {
     "data": {
      "text/html": [
       "<div>\n",
       "<style scoped>\n",
       "    .dataframe tbody tr th:only-of-type {\n",
       "        vertical-align: middle;\n",
       "    }\n",
       "\n",
       "    .dataframe tbody tr th {\n",
       "        vertical-align: top;\n",
       "    }\n",
       "\n",
       "    .dataframe thead th {\n",
       "        text-align: right;\n",
       "    }\n",
       "</style>\n",
       "<table border=\"1\" class=\"dataframe\">\n",
       "  <thead>\n",
       "    <tr style=\"text-align: right;\">\n",
       "      <th></th>\n",
       "      <th>professional_id</th>\n",
       "      <th>partition_date</th>\n",
       "      <th>partition_month</th>\n",
       "      <th>start_time</th>\n",
       "      <th>end_time</th>\n",
       "      <th>blocked_time</th>\n",
       "      <th>availability_hour</th>\n",
       "    </tr>\n",
       "  </thead>\n",
       "  <tbody>\n",
       "    <tr>\n",
       "      <th>487</th>\n",
       "      <td>1365</td>\n",
       "      <td>2024-05-01</td>\n",
       "      <td>NaN</td>\n",
       "      <td>NaN</td>\n",
       "      <td>NaN</td>\n",
       "      <td>NaN</td>\n",
       "      <td>NaN</td>\n",
       "    </tr>\n",
       "    <tr>\n",
       "      <th>488</th>\n",
       "      <td>1365</td>\n",
       "      <td>2024-05-02</td>\n",
       "      <td>NaN</td>\n",
       "      <td>NaN</td>\n",
       "      <td>NaN</td>\n",
       "      <td>NaN</td>\n",
       "      <td>NaN</td>\n",
       "    </tr>\n",
       "    <tr>\n",
       "      <th>489</th>\n",
       "      <td>1365</td>\n",
       "      <td>2024-05-03</td>\n",
       "      <td>NaN</td>\n",
       "      <td>NaN</td>\n",
       "      <td>NaN</td>\n",
       "      <td>NaN</td>\n",
       "      <td>NaN</td>\n",
       "    </tr>\n",
       "    <tr>\n",
       "      <th>490</th>\n",
       "      <td>1365</td>\n",
       "      <td>2024-05-04</td>\n",
       "      <td>NaN</td>\n",
       "      <td>NaN</td>\n",
       "      <td>NaN</td>\n",
       "      <td>NaN</td>\n",
       "      <td>NaN</td>\n",
       "    </tr>\n",
       "    <tr>\n",
       "      <th>491</th>\n",
       "      <td>1365</td>\n",
       "      <td>2024-05-05</td>\n",
       "      <td>NaN</td>\n",
       "      <td>NaN</td>\n",
       "      <td>NaN</td>\n",
       "      <td>NaN</td>\n",
       "      <td>NaN</td>\n",
       "    </tr>\n",
       "    <tr>\n",
       "      <th>...</th>\n",
       "      <td>...</td>\n",
       "      <td>...</td>\n",
       "      <td>...</td>\n",
       "      <td>...</td>\n",
       "      <td>...</td>\n",
       "      <td>...</td>\n",
       "      <td>...</td>\n",
       "    </tr>\n",
       "    <tr>\n",
       "      <th>1580268</th>\n",
       "      <td>12049</td>\n",
       "      <td>2024-12-22</td>\n",
       "      <td>NaN</td>\n",
       "      <td>NaN</td>\n",
       "      <td>NaN</td>\n",
       "      <td>NaN</td>\n",
       "      <td>NaN</td>\n",
       "    </tr>\n",
       "    <tr>\n",
       "      <th>1580269</th>\n",
       "      <td>12049</td>\n",
       "      <td>2024-12-23</td>\n",
       "      <td>NaN</td>\n",
       "      <td>NaN</td>\n",
       "      <td>NaN</td>\n",
       "      <td>NaN</td>\n",
       "      <td>NaN</td>\n",
       "    </tr>\n",
       "    <tr>\n",
       "      <th>1580270</th>\n",
       "      <td>12049</td>\n",
       "      <td>2024-12-24</td>\n",
       "      <td>NaN</td>\n",
       "      <td>NaN</td>\n",
       "      <td>NaN</td>\n",
       "      <td>NaN</td>\n",
       "      <td>NaN</td>\n",
       "    </tr>\n",
       "    <tr>\n",
       "      <th>1580271</th>\n",
       "      <td>12049</td>\n",
       "      <td>2024-12-25</td>\n",
       "      <td>NaN</td>\n",
       "      <td>NaN</td>\n",
       "      <td>NaN</td>\n",
       "      <td>NaN</td>\n",
       "      <td>NaN</td>\n",
       "    </tr>\n",
       "    <tr>\n",
       "      <th>1580272</th>\n",
       "      <td>12049</td>\n",
       "      <td>2024-12-26</td>\n",
       "      <td>NaN</td>\n",
       "      <td>NaN</td>\n",
       "      <td>NaN</td>\n",
       "      <td>NaN</td>\n",
       "      <td>NaN</td>\n",
       "    </tr>\n",
       "  </tbody>\n",
       "</table>\n",
       "<p>857871 rows × 7 columns</p>\n",
       "</div>"
      ],
      "text/plain": [
       "         professional_id partition_date partition_month start_time end_time  \\\n",
       "487                 1365     2024-05-01             NaN        NaN      NaN   \n",
       "488                 1365     2024-05-02             NaN        NaN      NaN   \n",
       "489                 1365     2024-05-03             NaN        NaN      NaN   \n",
       "490                 1365     2024-05-04             NaN        NaN      NaN   \n",
       "491                 1365     2024-05-05             NaN        NaN      NaN   \n",
       "...                  ...            ...             ...        ...      ...   \n",
       "1580268            12049     2024-12-22             NaN        NaN      NaN   \n",
       "1580269            12049     2024-12-23             NaN        NaN      NaN   \n",
       "1580270            12049     2024-12-24             NaN        NaN      NaN   \n",
       "1580271            12049     2024-12-25             NaN        NaN      NaN   \n",
       "1580272            12049     2024-12-26             NaN        NaN      NaN   \n",
       "\n",
       "         blocked_time  availability_hour  \n",
       "487               NaN                NaN  \n",
       "488               NaN                NaN  \n",
       "489               NaN                NaN  \n",
       "490               NaN                NaN  \n",
       "491               NaN                NaN  \n",
       "...               ...                ...  \n",
       "1580268           NaN                NaN  \n",
       "1580269           NaN                NaN  \n",
       "1580270           NaN                NaN  \n",
       "1580271           NaN                NaN  \n",
       "1580272           NaN                NaN  \n",
       "\n",
       "[857871 rows x 7 columns]"
      ]
     },
     "execution_count": 26,
     "metadata": {},
     "output_type": "execute_result"
    }
   ],
   "source": [
    "# Check if blocked_time and availability_hour contain any missing value\n",
    "full_availability[full_availability[\"blocked_time\"].isnull() == True]"
   ]
  },
  {
   "cell_type": "code",
   "execution_count": 35,
   "id": "d8ae111b",
   "metadata": {},
   "outputs": [
    {
     "data": {
      "text/html": [
       "<div>\n",
       "<style scoped>\n",
       "    .dataframe tbody tr th:only-of-type {\n",
       "        vertical-align: middle;\n",
       "    }\n",
       "\n",
       "    .dataframe tbody tr th {\n",
       "        vertical-align: top;\n",
       "    }\n",
       "\n",
       "    .dataframe thead th {\n",
       "        text-align: right;\n",
       "    }\n",
       "</style>\n",
       "<table border=\"1\" class=\"dataframe\">\n",
       "  <thead>\n",
       "    <tr style=\"text-align: right;\">\n",
       "      <th></th>\n",
       "      <th>professional_id</th>\n",
       "      <th>partition_date</th>\n",
       "      <th>partition_month</th>\n",
       "      <th>start_time</th>\n",
       "      <th>end_time</th>\n",
       "      <th>blocked_time</th>\n",
       "      <th>availability_hour</th>\n",
       "    </tr>\n",
       "  </thead>\n",
       "  <tbody>\n",
       "  </tbody>\n",
       "</table>\n",
       "</div>"
      ],
      "text/plain": [
       "Empty DataFrame\n",
       "Columns: [professional_id, partition_date, partition_month, start_time, end_time, blocked_time, availability_hour]\n",
       "Index: []"
      ]
     },
     "execution_count": 35,
     "metadata": {},
     "output_type": "execute_result"
    }
   ],
   "source": [
    "full_availability['blocked_time'] = full_availability['blocked_time'].fillna(0.0)\n",
    "full_availability['availability_hour'] = full_availability['availability_hour'].fillna(12.0)\n",
    "\n",
    "# Take a look at missing value again...\n",
    "full_availability[full_availability[\"blocked_time\"].isnull() == True]"
   ]
  },
  {
   "cell_type": "markdown",
   "id": "f305089b",
   "metadata": {},
   "source": [
    "### <b>3. Filter by Start, Layoff, and End Date</b>\n",
    "\n",
    "Next, we need to filter the rows in <b>full_availability.partition_date</b> by remove all the rows that exist in the table before <b>df.first_partition_date</b> and after the <b>df.layoff_date</b> or <b>df.last_booking_date</b>"
   ]
  },
  {
   "cell_type": "code",
   "execution_count": 37,
   "id": "93035c97",
   "metadata": {},
   "outputs": [
    {
     "data": {
      "text/html": [
       "<div>\n",
       "<style scoped>\n",
       "    .dataframe tbody tr th:only-of-type {\n",
       "        vertical-align: middle;\n",
       "    }\n",
       "\n",
       "    .dataframe tbody tr th {\n",
       "        vertical-align: top;\n",
       "    }\n",
       "\n",
       "    .dataframe thead th {\n",
       "        text-align: right;\n",
       "    }\n",
       "</style>\n",
       "<table border=\"1\" class=\"dataframe\">\n",
       "  <thead>\n",
       "    <tr style=\"text-align: right;\">\n",
       "      <th></th>\n",
       "      <th>professional_id</th>\n",
       "      <th>first_partition_date</th>\n",
       "      <th>layoff_date</th>\n",
       "      <th>last_booking_date</th>\n",
       "    </tr>\n",
       "  </thead>\n",
       "  <tbody>\n",
       "    <tr>\n",
       "      <th>0</th>\n",
       "      <td>1</td>\n",
       "      <td>2016-01-13 12:00:00</td>\n",
       "      <td>2020-12-08 14:00:02</td>\n",
       "      <td>2020-10-31 07:00:00</td>\n",
       "    </tr>\n",
       "    <tr>\n",
       "      <th>1</th>\n",
       "      <td>3</td>\n",
       "      <td>2021-05-05 17:00:00</td>\n",
       "      <td>2021-05-06 14:00:03</td>\n",
       "      <td>NaT</td>\n",
       "    </tr>\n",
       "    <tr>\n",
       "      <th>2</th>\n",
       "      <td>4</td>\n",
       "      <td>2016-02-04 18:00:30</td>\n",
       "      <td>NaN</td>\n",
       "      <td>2022-09-16 15:00:00</td>\n",
       "    </tr>\n",
       "    <tr>\n",
       "      <th>3</th>\n",
       "      <td>5</td>\n",
       "      <td>2016-03-28 13:00:00</td>\n",
       "      <td>NaN</td>\n",
       "      <td>2024-12-31 00:00:00</td>\n",
       "    </tr>\n",
       "    <tr>\n",
       "      <th>4</th>\n",
       "      <td>6</td>\n",
       "      <td>2016-03-20 14:00:00</td>\n",
       "      <td>NaN</td>\n",
       "      <td>2023-06-26 16:00:00</td>\n",
       "    </tr>\n",
       "  </tbody>\n",
       "</table>\n",
       "</div>"
      ],
      "text/plain": [
       "   professional_id first_partition_date          layoff_date  \\\n",
       "0                1  2016-01-13 12:00:00  2020-12-08 14:00:02   \n",
       "1                3  2021-05-05 17:00:00  2021-05-06 14:00:03   \n",
       "2                4  2016-02-04 18:00:30                  NaN   \n",
       "3                5  2016-03-28 13:00:00                  NaN   \n",
       "4                6  2016-03-20 14:00:00                  NaN   \n",
       "\n",
       "    last_booking_date  \n",
       "0 2020-10-31 07:00:00  \n",
       "1                 NaT  \n",
       "2 2022-09-16 15:00:00  \n",
       "3 2024-12-31 00:00:00  \n",
       "4 2023-06-26 16:00:00  "
      ]
     },
     "execution_count": 37,
     "metadata": {},
     "output_type": "execute_result"
    }
   ],
   "source": [
    "df.head()"
   ]
  },
  {
   "cell_type": "code",
   "execution_count": 40,
   "id": "6433fb2e",
   "metadata": {},
   "outputs": [
    {
     "data": {
      "text/html": [
       "<div>\n",
       "<style scoped>\n",
       "    .dataframe tbody tr th:only-of-type {\n",
       "        vertical-align: middle;\n",
       "    }\n",
       "\n",
       "    .dataframe tbody tr th {\n",
       "        vertical-align: top;\n",
       "    }\n",
       "\n",
       "    .dataframe thead th {\n",
       "        text-align: right;\n",
       "    }\n",
       "</style>\n",
       "<table border=\"1\" class=\"dataframe\">\n",
       "  <thead>\n",
       "    <tr style=\"text-align: right;\">\n",
       "      <th></th>\n",
       "      <th>professional_id</th>\n",
       "      <th>partition_date</th>\n",
       "      <th>partition_month</th>\n",
       "      <th>start_time</th>\n",
       "      <th>end_time</th>\n",
       "      <th>blocked_time</th>\n",
       "      <th>availability_hour</th>\n",
       "    </tr>\n",
       "  </thead>\n",
       "  <tbody>\n",
       "    <tr>\n",
       "      <th>1560148</th>\n",
       "      <td>1</td>\n",
       "      <td>2024-01-01</td>\n",
       "      <td>NaN</td>\n",
       "      <td>NaN</td>\n",
       "      <td>NaN</td>\n",
       "      <td>0.0</td>\n",
       "      <td>12.0</td>\n",
       "    </tr>\n",
       "    <tr>\n",
       "      <th>1560149</th>\n",
       "      <td>1</td>\n",
       "      <td>2024-01-02</td>\n",
       "      <td>NaN</td>\n",
       "      <td>NaN</td>\n",
       "      <td>NaN</td>\n",
       "      <td>0.0</td>\n",
       "      <td>12.0</td>\n",
       "    </tr>\n",
       "    <tr>\n",
       "      <th>1560150</th>\n",
       "      <td>1</td>\n",
       "      <td>2024-01-03</td>\n",
       "      <td>NaN</td>\n",
       "      <td>NaN</td>\n",
       "      <td>NaN</td>\n",
       "      <td>0.0</td>\n",
       "      <td>12.0</td>\n",
       "    </tr>\n",
       "    <tr>\n",
       "      <th>1560151</th>\n",
       "      <td>1</td>\n",
       "      <td>2024-01-04</td>\n",
       "      <td>NaN</td>\n",
       "      <td>NaN</td>\n",
       "      <td>NaN</td>\n",
       "      <td>0.0</td>\n",
       "      <td>12.0</td>\n",
       "    </tr>\n",
       "    <tr>\n",
       "      <th>1560152</th>\n",
       "      <td>1</td>\n",
       "      <td>2024-01-05</td>\n",
       "      <td>NaN</td>\n",
       "      <td>NaN</td>\n",
       "      <td>NaN</td>\n",
       "      <td>0.0</td>\n",
       "      <td>12.0</td>\n",
       "    </tr>\n",
       "  </tbody>\n",
       "</table>\n",
       "</div>"
      ],
      "text/plain": [
       "         professional_id partition_date partition_month start_time end_time  \\\n",
       "1560148                1     2024-01-01             NaN        NaN      NaN   \n",
       "1560149                1     2024-01-02             NaN        NaN      NaN   \n",
       "1560150                1     2024-01-03             NaN        NaN      NaN   \n",
       "1560151                1     2024-01-04             NaN        NaN      NaN   \n",
       "1560152                1     2024-01-05             NaN        NaN      NaN   \n",
       "\n",
       "         blocked_time  availability_hour  \n",
       "1560148           0.0               12.0  \n",
       "1560149           0.0               12.0  \n",
       "1560150           0.0               12.0  \n",
       "1560151           0.0               12.0  \n",
       "1560152           0.0               12.0  "
      ]
     },
     "execution_count": 40,
     "metadata": {},
     "output_type": "execute_result"
    }
   ],
   "source": [
    "full_availability[full_availability[\"professional_id\"] == 1].head()"
   ]
  },
  {
   "cell_type": "code",
   "execution_count": 41,
   "id": "c04a7fff",
   "metadata": {},
   "outputs": [
    {
     "data": {
      "text/html": [
       "<div>\n",
       "<style scoped>\n",
       "    .dataframe tbody tr th:only-of-type {\n",
       "        vertical-align: middle;\n",
       "    }\n",
       "\n",
       "    .dataframe tbody tr th {\n",
       "        vertical-align: top;\n",
       "    }\n",
       "\n",
       "    .dataframe thead th {\n",
       "        text-align: right;\n",
       "    }\n",
       "</style>\n",
       "<table border=\"1\" class=\"dataframe\">\n",
       "  <thead>\n",
       "    <tr style=\"text-align: right;\">\n",
       "      <th></th>\n",
       "      <th>professional_id</th>\n",
       "      <th>first_partition_date</th>\n",
       "      <th>layoff_date</th>\n",
       "      <th>last_booking_date</th>\n",
       "      <th>end_date</th>\n",
       "    </tr>\n",
       "  </thead>\n",
       "  <tbody>\n",
       "    <tr>\n",
       "      <th>0</th>\n",
       "      <td>1</td>\n",
       "      <td>2016-01-13 12:00:00</td>\n",
       "      <td>2020-12-08 14:00:02</td>\n",
       "      <td>2020-10-31 07:00:00</td>\n",
       "      <td>2020-10-31 07:00:00</td>\n",
       "    </tr>\n",
       "    <tr>\n",
       "      <th>1</th>\n",
       "      <td>3</td>\n",
       "      <td>2021-05-05 17:00:00</td>\n",
       "      <td>2021-05-06 14:00:03</td>\n",
       "      <td>NaT</td>\n",
       "      <td>2021-05-06 14:00:03</td>\n",
       "    </tr>\n",
       "    <tr>\n",
       "      <th>2</th>\n",
       "      <td>4</td>\n",
       "      <td>2016-02-04 18:00:30</td>\n",
       "      <td>NaT</td>\n",
       "      <td>2022-09-16 15:00:00</td>\n",
       "      <td>2022-09-16 15:00:00</td>\n",
       "    </tr>\n",
       "    <tr>\n",
       "      <th>3</th>\n",
       "      <td>5</td>\n",
       "      <td>2016-03-28 13:00:00</td>\n",
       "      <td>NaT</td>\n",
       "      <td>2024-12-31 00:00:00</td>\n",
       "      <td>2024-12-31 00:00:00</td>\n",
       "    </tr>\n",
       "    <tr>\n",
       "      <th>4</th>\n",
       "      <td>6</td>\n",
       "      <td>2016-03-20 14:00:00</td>\n",
       "      <td>NaT</td>\n",
       "      <td>2023-06-26 16:00:00</td>\n",
       "      <td>2023-06-26 16:00:00</td>\n",
       "    </tr>\n",
       "  </tbody>\n",
       "</table>\n",
       "</div>"
      ],
      "text/plain": [
       "   professional_id first_partition_date         layoff_date  \\\n",
       "0                1  2016-01-13 12:00:00 2020-12-08 14:00:02   \n",
       "1                3  2021-05-05 17:00:00 2021-05-06 14:00:03   \n",
       "2                4  2016-02-04 18:00:30                 NaT   \n",
       "3                5  2016-03-28 13:00:00                 NaT   \n",
       "4                6  2016-03-20 14:00:00                 NaT   \n",
       "\n",
       "    last_booking_date            end_date  \n",
       "0 2020-10-31 07:00:00 2020-10-31 07:00:00  \n",
       "1                 NaT 2021-05-06 14:00:03  \n",
       "2 2022-09-16 15:00:00 2022-09-16 15:00:00  \n",
       "3 2024-12-31 00:00:00 2024-12-31 00:00:00  \n",
       "4 2023-06-26 16:00:00 2023-06-26 16:00:00  "
      ]
     },
     "execution_count": 41,
     "metadata": {},
     "output_type": "execute_result"
    }
   ],
   "source": [
    "# Ensure datetime format\n",
    "df[\"first_partition_date\"] = pd.to_datetime(df[\"first_partition_date\"])\n",
    "df[\"layoff_date\"] = pd.to_datetime(df[\"layoff_date\"])\n",
    "df[\"last_booking_date\"] = pd.to_datetime(df[\"last_booking_date\"])\n",
    "full_availability[\"partition_date\"] = pd.to_datetime(full_availability[\"partition_date\"])\n",
    "\n",
    "# Create a new column for end_date: min(layoff_date, last_booking_date) while ignoring NaT\n",
    "df[\"end_date\"] = df[[\"layoff_date\", \"last_booking_date\"]].min(axis=1)\n",
    "df.head()"
   ]
  },
  {
   "cell_type": "code",
   "execution_count": 44,
   "id": "191d9575",
   "metadata": {},
   "outputs": [
    {
     "data": {
      "text/html": [
       "<div>\n",
       "<style scoped>\n",
       "    .dataframe tbody tr th:only-of-type {\n",
       "        vertical-align: middle;\n",
       "    }\n",
       "\n",
       "    .dataframe tbody tr th {\n",
       "        vertical-align: top;\n",
       "    }\n",
       "\n",
       "    .dataframe thead th {\n",
       "        text-align: right;\n",
       "    }\n",
       "</style>\n",
       "<table border=\"1\" class=\"dataframe\">\n",
       "  <thead>\n",
       "    <tr style=\"text-align: right;\">\n",
       "      <th></th>\n",
       "      <th>professional_id</th>\n",
       "      <th>partition_date</th>\n",
       "      <th>partition_month</th>\n",
       "      <th>start_time</th>\n",
       "      <th>end_time</th>\n",
       "      <th>blocked_time</th>\n",
       "      <th>availability_hour</th>\n",
       "      <th>first_partition_date</th>\n",
       "      <th>end_date</th>\n",
       "    </tr>\n",
       "  </thead>\n",
       "  <tbody>\n",
       "    <tr>\n",
       "      <th>0</th>\n",
       "      <td>1257</td>\n",
       "      <td>2024-01-01</td>\n",
       "      <td>2024-01</td>\n",
       "      <td>NaN</td>\n",
       "      <td>NaN</td>\n",
       "      <td>12.0</td>\n",
       "      <td>0.0</td>\n",
       "      <td>2019-05-04 09:17:28</td>\n",
       "      <td>2020-08-29 11:42:53</td>\n",
       "    </tr>\n",
       "    <tr>\n",
       "      <th>1</th>\n",
       "      <td>1257</td>\n",
       "      <td>2024-01-02</td>\n",
       "      <td>2024-01</td>\n",
       "      <td>NaN</td>\n",
       "      <td>NaN</td>\n",
       "      <td>12.0</td>\n",
       "      <td>0.0</td>\n",
       "      <td>2019-05-04 09:17:28</td>\n",
       "      <td>2020-08-29 11:42:53</td>\n",
       "    </tr>\n",
       "    <tr>\n",
       "      <th>2</th>\n",
       "      <td>1257</td>\n",
       "      <td>2024-01-03</td>\n",
       "      <td>2024-01</td>\n",
       "      <td>NaN</td>\n",
       "      <td>NaN</td>\n",
       "      <td>12.0</td>\n",
       "      <td>0.0</td>\n",
       "      <td>2019-05-04 09:17:28</td>\n",
       "      <td>2020-08-29 11:42:53</td>\n",
       "    </tr>\n",
       "    <tr>\n",
       "      <th>3</th>\n",
       "      <td>1257</td>\n",
       "      <td>2024-01-04</td>\n",
       "      <td>2024-01</td>\n",
       "      <td>NaN</td>\n",
       "      <td>NaN</td>\n",
       "      <td>12.0</td>\n",
       "      <td>0.0</td>\n",
       "      <td>2019-05-04 09:17:28</td>\n",
       "      <td>2020-08-29 11:42:53</td>\n",
       "    </tr>\n",
       "    <tr>\n",
       "      <th>4</th>\n",
       "      <td>1257</td>\n",
       "      <td>2024-01-05</td>\n",
       "      <td>2024-01</td>\n",
       "      <td>NaN</td>\n",
       "      <td>NaN</td>\n",
       "      <td>12.0</td>\n",
       "      <td>0.0</td>\n",
       "      <td>2019-05-04 09:17:28</td>\n",
       "      <td>2020-08-29 11:42:53</td>\n",
       "    </tr>\n",
       "  </tbody>\n",
       "</table>\n",
       "</div>"
      ],
      "text/plain": [
       "   professional_id partition_date partition_month start_time end_time  \\\n",
       "0             1257     2024-01-01         2024-01        NaN      NaN   \n",
       "1             1257     2024-01-02         2024-01        NaN      NaN   \n",
       "2             1257     2024-01-03         2024-01        NaN      NaN   \n",
       "3             1257     2024-01-04         2024-01        NaN      NaN   \n",
       "4             1257     2024-01-05         2024-01        NaN      NaN   \n",
       "\n",
       "   blocked_time  availability_hour first_partition_date            end_date  \n",
       "0          12.0                0.0  2019-05-04 09:17:28 2020-08-29 11:42:53  \n",
       "1          12.0                0.0  2019-05-04 09:17:28 2020-08-29 11:42:53  \n",
       "2          12.0                0.0  2019-05-04 09:17:28 2020-08-29 11:42:53  \n",
       "3          12.0                0.0  2019-05-04 09:17:28 2020-08-29 11:42:53  \n",
       "4          12.0                0.0  2019-05-04 09:17:28 2020-08-29 11:42:53  "
      ]
     },
     "execution_count": 44,
     "metadata": {},
     "output_type": "execute_result"
    }
   ],
   "source": [
    "# Left join to align availability with provider timelines\n",
    "temp = full_availability.merge(\n",
    "       df[[\"professional_id\", \"first_partition_date\", \"end_date\"]],\n",
    "       on=\"professional_id\",\n",
    "       how=\"left\"\n",
    ")\n",
    "temp.head()"
   ]
  },
  {
   "cell_type": "code",
   "execution_count": 45,
   "id": "00988d9d",
   "metadata": {},
   "outputs": [
    {
     "data": {
      "text/html": [
       "<div>\n",
       "<style scoped>\n",
       "    .dataframe tbody tr th:only-of-type {\n",
       "        vertical-align: middle;\n",
       "    }\n",
       "\n",
       "    .dataframe tbody tr th {\n",
       "        vertical-align: top;\n",
       "    }\n",
       "\n",
       "    .dataframe thead th {\n",
       "        text-align: right;\n",
       "    }\n",
       "</style>\n",
       "<table border=\"1\" class=\"dataframe\">\n",
       "  <thead>\n",
       "    <tr style=\"text-align: right;\">\n",
       "      <th></th>\n",
       "      <th>professional_id</th>\n",
       "      <th>partition_date</th>\n",
       "      <th>partition_month</th>\n",
       "      <th>start_time</th>\n",
       "      <th>end_time</th>\n",
       "      <th>blocked_time</th>\n",
       "      <th>availability_hour</th>\n",
       "    </tr>\n",
       "  </thead>\n",
       "  <tbody>\n",
       "    <tr>\n",
       "      <th>366</th>\n",
       "      <td>1365</td>\n",
       "      <td>2024-01-01</td>\n",
       "      <td>2024-01</td>\n",
       "      <td>NaN</td>\n",
       "      <td>NaN</td>\n",
       "      <td>12.0</td>\n",
       "      <td>0.0</td>\n",
       "    </tr>\n",
       "    <tr>\n",
       "      <th>367</th>\n",
       "      <td>1365</td>\n",
       "      <td>2024-01-02</td>\n",
       "      <td>2024-01</td>\n",
       "      <td>10:00</td>\n",
       "      <td>16:00</td>\n",
       "      <td>6.0</td>\n",
       "      <td>6.0</td>\n",
       "    </tr>\n",
       "    <tr>\n",
       "      <th>368</th>\n",
       "      <td>1365</td>\n",
       "      <td>2024-01-03</td>\n",
       "      <td>2024-01</td>\n",
       "      <td>10:00</td>\n",
       "      <td>16:00</td>\n",
       "      <td>6.0</td>\n",
       "      <td>6.0</td>\n",
       "    </tr>\n",
       "    <tr>\n",
       "      <th>369</th>\n",
       "      <td>1365</td>\n",
       "      <td>2024-01-04</td>\n",
       "      <td>2024-01</td>\n",
       "      <td>10:00</td>\n",
       "      <td>16:00</td>\n",
       "      <td>6.0</td>\n",
       "      <td>6.0</td>\n",
       "    </tr>\n",
       "    <tr>\n",
       "      <th>370</th>\n",
       "      <td>1365</td>\n",
       "      <td>2024-01-05</td>\n",
       "      <td>2024-01</td>\n",
       "      <td>NaN</td>\n",
       "      <td>NaN</td>\n",
       "      <td>12.0</td>\n",
       "      <td>0.0</td>\n",
       "    </tr>\n",
       "    <tr>\n",
       "      <th>...</th>\n",
       "      <td>...</td>\n",
       "      <td>...</td>\n",
       "      <td>...</td>\n",
       "      <td>...</td>\n",
       "      <td>...</td>\n",
       "      <td>...</td>\n",
       "      <td>...</td>\n",
       "    </tr>\n",
       "    <tr>\n",
       "      <th>1575515</th>\n",
       "      <td>11998</td>\n",
       "      <td>2024-12-27</td>\n",
       "      <td>2024-12</td>\n",
       "      <td>09:30</td>\n",
       "      <td>18:00</td>\n",
       "      <td>8.5</td>\n",
       "      <td>3.5</td>\n",
       "    </tr>\n",
       "    <tr>\n",
       "      <th>1575516</th>\n",
       "      <td>11998</td>\n",
       "      <td>2024-12-28</td>\n",
       "      <td>2024-12</td>\n",
       "      <td>09:30</td>\n",
       "      <td>18:00</td>\n",
       "      <td>8.5</td>\n",
       "      <td>3.5</td>\n",
       "    </tr>\n",
       "    <tr>\n",
       "      <th>1575517</th>\n",
       "      <td>11998</td>\n",
       "      <td>2024-12-29</td>\n",
       "      <td>2024-12</td>\n",
       "      <td>09:30</td>\n",
       "      <td>18:00</td>\n",
       "      <td>8.5</td>\n",
       "      <td>3.5</td>\n",
       "    </tr>\n",
       "    <tr>\n",
       "      <th>1575518</th>\n",
       "      <td>11998</td>\n",
       "      <td>2024-12-30</td>\n",
       "      <td>2024-12</td>\n",
       "      <td>NaN</td>\n",
       "      <td>NaN</td>\n",
       "      <td>12.0</td>\n",
       "      <td>0.0</td>\n",
       "    </tr>\n",
       "    <tr>\n",
       "      <th>1575519</th>\n",
       "      <td>11998</td>\n",
       "      <td>2024-12-31</td>\n",
       "      <td>2024-12</td>\n",
       "      <td>NaN</td>\n",
       "      <td>NaN</td>\n",
       "      <td>12.0</td>\n",
       "      <td>0.0</td>\n",
       "    </tr>\n",
       "  </tbody>\n",
       "</table>\n",
       "<p>695273 rows × 7 columns</p>\n",
       "</div>"
      ],
      "text/plain": [
       "         professional_id partition_date partition_month start_time end_time  \\\n",
       "366                 1365     2024-01-01         2024-01        NaN      NaN   \n",
       "367                 1365     2024-01-02         2024-01      10:00    16:00   \n",
       "368                 1365     2024-01-03         2024-01      10:00    16:00   \n",
       "369                 1365     2024-01-04         2024-01      10:00    16:00   \n",
       "370                 1365     2024-01-05         2024-01        NaN      NaN   \n",
       "...                  ...            ...             ...        ...      ...   \n",
       "1575515            11998     2024-12-27         2024-12      09:30    18:00   \n",
       "1575516            11998     2024-12-28         2024-12      09:30    18:00   \n",
       "1575517            11998     2024-12-29         2024-12      09:30    18:00   \n",
       "1575518            11998     2024-12-30         2024-12        NaN      NaN   \n",
       "1575519            11998     2024-12-31         2024-12        NaN      NaN   \n",
       "\n",
       "         blocked_time  availability_hour  \n",
       "366              12.0                0.0  \n",
       "367               6.0                6.0  \n",
       "368               6.0                6.0  \n",
       "369               6.0                6.0  \n",
       "370              12.0                0.0  \n",
       "...               ...                ...  \n",
       "1575515           8.5                3.5  \n",
       "1575516           8.5                3.5  \n",
       "1575517           8.5                3.5  \n",
       "1575518          12.0                0.0  \n",
       "1575519          12.0                0.0  \n",
       "\n",
       "[695273 rows x 7 columns]"
      ]
     },
     "execution_count": 45,
     "metadata": {},
     "output_type": "execute_result"
    }
   ],
   "source": [
    "# Filter based on working period\n",
    "filtered_availability = temp[\n",
    "    (temp[\"partition_date\"] >= temp[\"first_partition_date\"]) &\n",
    "    (temp[\"partition_date\"] <= temp[\"end_date\"])\n",
    "].drop(columns=[\"first_partition_date\", \"end_date\"]) # drop helper columns too\n",
    "filtered_availability"
   ]
  },
  {
   "cell_type": "markdown",
   "id": "33c0edc2",
   "metadata": {},
   "source": [
    "### <b>4. Availability Rate</b>\n",
    "\n",
    "🧮 Logic:\n",
    "<ul>\n",
    "    <li>A day is considered available if availability_hour > 0.</li>\n",
    "    <li>Group by professional_id and partition_month to:\n",
    "    <ul>\n",
    "        <li>Count total days in the month (day_count)</li>\n",
    "        <li>Count how many of those days were available (available_day_count)</li>\n",
    "        <li>Compute availability_rate = available_day_count / day_count</li>\n",
    "    </ul>\n",
    "    <li>Compute availability_rate = available_day_count / day_count</li>\n",
    "</ul>"
   ]
  },
  {
   "cell_type": "markdown",
   "id": "ddd4d9f0",
   "metadata": {},
   "source": [
    "#### <b>4.1 Monthly Availability Rate</b>"
   ]
  },
  {
   "cell_type": "code",
   "execution_count": 46,
   "id": "0a712bd7",
   "metadata": {},
   "outputs": [
    {
     "data": {
      "text/html": [
       "<div>\n",
       "<style scoped>\n",
       "    .dataframe tbody tr th:only-of-type {\n",
       "        vertical-align: middle;\n",
       "    }\n",
       "\n",
       "    .dataframe tbody tr th {\n",
       "        vertical-align: top;\n",
       "    }\n",
       "\n",
       "    .dataframe thead th {\n",
       "        text-align: right;\n",
       "    }\n",
       "</style>\n",
       "<table border=\"1\" class=\"dataframe\">\n",
       "  <thead>\n",
       "    <tr style=\"text-align: right;\">\n",
       "      <th></th>\n",
       "      <th>professional_id</th>\n",
       "      <th>partition_date</th>\n",
       "      <th>partition_month</th>\n",
       "      <th>start_time</th>\n",
       "      <th>end_time</th>\n",
       "      <th>blocked_time</th>\n",
       "      <th>availability_hour</th>\n",
       "    </tr>\n",
       "  </thead>\n",
       "  <tbody>\n",
       "    <tr>\n",
       "      <th>366</th>\n",
       "      <td>1365</td>\n",
       "      <td>2024-01-01</td>\n",
       "      <td>2024-01</td>\n",
       "      <td>NaN</td>\n",
       "      <td>NaN</td>\n",
       "      <td>12.0</td>\n",
       "      <td>0.0</td>\n",
       "    </tr>\n",
       "    <tr>\n",
       "      <th>367</th>\n",
       "      <td>1365</td>\n",
       "      <td>2024-01-02</td>\n",
       "      <td>2024-01</td>\n",
       "      <td>10:00</td>\n",
       "      <td>16:00</td>\n",
       "      <td>6.0</td>\n",
       "      <td>6.0</td>\n",
       "    </tr>\n",
       "    <tr>\n",
       "      <th>368</th>\n",
       "      <td>1365</td>\n",
       "      <td>2024-01-03</td>\n",
       "      <td>2024-01</td>\n",
       "      <td>10:00</td>\n",
       "      <td>16:00</td>\n",
       "      <td>6.0</td>\n",
       "      <td>6.0</td>\n",
       "    </tr>\n",
       "    <tr>\n",
       "      <th>369</th>\n",
       "      <td>1365</td>\n",
       "      <td>2024-01-04</td>\n",
       "      <td>2024-01</td>\n",
       "      <td>10:00</td>\n",
       "      <td>16:00</td>\n",
       "      <td>6.0</td>\n",
       "      <td>6.0</td>\n",
       "    </tr>\n",
       "    <tr>\n",
       "      <th>370</th>\n",
       "      <td>1365</td>\n",
       "      <td>2024-01-05</td>\n",
       "      <td>2024-01</td>\n",
       "      <td>NaN</td>\n",
       "      <td>NaN</td>\n",
       "      <td>12.0</td>\n",
       "      <td>0.0</td>\n",
       "    </tr>\n",
       "  </tbody>\n",
       "</table>\n",
       "</div>"
      ],
      "text/plain": [
       "     professional_id partition_date partition_month start_time end_time  \\\n",
       "366             1365     2024-01-01         2024-01        NaN      NaN   \n",
       "367             1365     2024-01-02         2024-01      10:00    16:00   \n",
       "368             1365     2024-01-03         2024-01      10:00    16:00   \n",
       "369             1365     2024-01-04         2024-01      10:00    16:00   \n",
       "370             1365     2024-01-05         2024-01        NaN      NaN   \n",
       "\n",
       "     blocked_time  availability_hour  \n",
       "366          12.0                0.0  \n",
       "367           6.0                6.0  \n",
       "368           6.0                6.0  \n",
       "369           6.0                6.0  \n",
       "370          12.0                0.0  "
      ]
     },
     "execution_count": 46,
     "metadata": {},
     "output_type": "execute_result"
    }
   ],
   "source": [
    "filtered_availability.head()"
   ]
  },
  {
   "cell_type": "code",
   "execution_count": 48,
   "id": "79b15d7d",
   "metadata": {},
   "outputs": [
    {
     "data": {
      "text/html": [
       "<div>\n",
       "<style scoped>\n",
       "    .dataframe tbody tr th:only-of-type {\n",
       "        vertical-align: middle;\n",
       "    }\n",
       "\n",
       "    .dataframe tbody tr th {\n",
       "        vertical-align: top;\n",
       "    }\n",
       "\n",
       "    .dataframe thead th {\n",
       "        text-align: right;\n",
       "    }\n",
       "</style>\n",
       "<table border=\"1\" class=\"dataframe\">\n",
       "  <thead>\n",
       "    <tr style=\"text-align: right;\">\n",
       "      <th></th>\n",
       "      <th>professional_id</th>\n",
       "      <th>partition_month</th>\n",
       "      <th>day_count</th>\n",
       "      <th>available_day_count</th>\n",
       "      <th>availability_rate</th>\n",
       "    </tr>\n",
       "  </thead>\n",
       "  <tbody>\n",
       "    <tr>\n",
       "      <th>0</th>\n",
       "      <td>5</td>\n",
       "      <td>2024-01</td>\n",
       "      <td>31</td>\n",
       "      <td>31</td>\n",
       "      <td>1.000000</td>\n",
       "    </tr>\n",
       "    <tr>\n",
       "      <th>1</th>\n",
       "      <td>5</td>\n",
       "      <td>2024-02</td>\n",
       "      <td>29</td>\n",
       "      <td>29</td>\n",
       "      <td>1.000000</td>\n",
       "    </tr>\n",
       "    <tr>\n",
       "      <th>2</th>\n",
       "      <td>5</td>\n",
       "      <td>2024-03</td>\n",
       "      <td>31</td>\n",
       "      <td>24</td>\n",
       "      <td>0.774194</td>\n",
       "    </tr>\n",
       "    <tr>\n",
       "      <th>3</th>\n",
       "      <td>5</td>\n",
       "      <td>2024-04</td>\n",
       "      <td>30</td>\n",
       "      <td>30</td>\n",
       "      <td>1.000000</td>\n",
       "    </tr>\n",
       "    <tr>\n",
       "      <th>4</th>\n",
       "      <td>5</td>\n",
       "      <td>2024-05</td>\n",
       "      <td>31</td>\n",
       "      <td>31</td>\n",
       "      <td>1.000000</td>\n",
       "    </tr>\n",
       "    <tr>\n",
       "      <th>...</th>\n",
       "      <td>...</td>\n",
       "      <td>...</td>\n",
       "      <td>...</td>\n",
       "      <td>...</td>\n",
       "      <td>...</td>\n",
       "    </tr>\n",
       "    <tr>\n",
       "      <th>24202</th>\n",
       "      <td>12027</td>\n",
       "      <td>2024-12</td>\n",
       "      <td>4</td>\n",
       "      <td>4</td>\n",
       "      <td>1.000000</td>\n",
       "    </tr>\n",
       "    <tr>\n",
       "      <th>24203</th>\n",
       "      <td>12028</td>\n",
       "      <td>2024-12</td>\n",
       "      <td>5</td>\n",
       "      <td>0</td>\n",
       "      <td>0.000000</td>\n",
       "    </tr>\n",
       "    <tr>\n",
       "      <th>24204</th>\n",
       "      <td>12029</td>\n",
       "      <td>2024-12</td>\n",
       "      <td>3</td>\n",
       "      <td>3</td>\n",
       "      <td>1.000000</td>\n",
       "    </tr>\n",
       "    <tr>\n",
       "      <th>24205</th>\n",
       "      <td>12032</td>\n",
       "      <td>2024-12</td>\n",
       "      <td>1</td>\n",
       "      <td>0</td>\n",
       "      <td>0.000000</td>\n",
       "    </tr>\n",
       "    <tr>\n",
       "      <th>24206</th>\n",
       "      <td>12034</td>\n",
       "      <td>2024-12</td>\n",
       "      <td>1</td>\n",
       "      <td>1</td>\n",
       "      <td>1.000000</td>\n",
       "    </tr>\n",
       "  </tbody>\n",
       "</table>\n",
       "<p>24207 rows × 5 columns</p>\n",
       "</div>"
      ],
      "text/plain": [
       "       professional_id partition_month  day_count  available_day_count  \\\n",
       "0                    5         2024-01         31                   31   \n",
       "1                    5         2024-02         29                   29   \n",
       "2                    5         2024-03         31                   24   \n",
       "3                    5         2024-04         30                   30   \n",
       "4                    5         2024-05         31                   31   \n",
       "...                ...             ...        ...                  ...   \n",
       "24202            12027         2024-12          4                    4   \n",
       "24203            12028         2024-12          5                    0   \n",
       "24204            12029         2024-12          3                    3   \n",
       "24205            12032         2024-12          1                    0   \n",
       "24206            12034         2024-12          1                    1   \n",
       "\n",
       "       availability_rate  \n",
       "0               1.000000  \n",
       "1               1.000000  \n",
       "2               0.774194  \n",
       "3               1.000000  \n",
       "4               1.000000  \n",
       "...                  ...  \n",
       "24202           1.000000  \n",
       "24203           0.000000  \n",
       "24204           1.000000  \n",
       "24205           0.000000  \n",
       "24206           1.000000  \n",
       "\n",
       "[24207 rows x 5 columns]"
      ]
     },
     "execution_count": 48,
     "metadata": {},
     "output_type": "execute_result"
    }
   ],
   "source": [
    "# Ensure partition_month exists and is datetime type\n",
    "filtered_availability[\"partition_month\"] = filtered_availability[\"partition_date\"].dt.to_period(\"M\").astype(str)\n",
    "\n",
    "# Calculate availability rate\n",
    "monthly_availability = (\n",
    "    filtered_availability\n",
    "    .assign(is_available = filtered_availability[\"availability_hour\"] > 0)\n",
    "    .groupby([\"professional_id\", \"partition_month\"])\n",
    "    .agg(\n",
    "        day_count=(\"partition_date\", \"count\"),\n",
    "        available_day_count=(\"is_available\", \"sum\")\n",
    "    )\n",
    "    .assign(availability_rate = lambda x: x[\"available_day_count\"] / x[\"day_count\"])\n",
    "    .reset_index()\n",
    ")\n",
    "monthly_availability"
   ]
  },
  {
   "cell_type": "markdown",
   "id": "78936c92",
   "metadata": {},
   "source": [
    "#### <b>4.2 Individual Availability Rate</b>\n",
    "\n",
    "It seems like I did it wrong (I don’t need to group by month anymore). Actually, I want the overall availability rate per service provider (from their start to end date)\n",
    "\n",
    "🧩 Updated Logic:\n",
    "<ul>\n",
    "    <li>For each professional_id, count:</li>\n",
    "    <ul>\n",
    "        <li>Total days (day_count)</li>\n",
    "        <li>Available days where availability_hour > 0 (available_day_count)</li>\n",
    "    </ul>\n",
    "    <li>Compute availability_rate = available_day_count / day_count</li>\n",
    "</ul>"
   ]
  },
  {
   "cell_type": "code",
   "execution_count": 51,
   "id": "a1bb8be3",
   "metadata": {},
   "outputs": [
    {
     "data": {
      "text/html": [
       "<div>\n",
       "<style scoped>\n",
       "    .dataframe tbody tr th:only-of-type {\n",
       "        vertical-align: middle;\n",
       "    }\n",
       "\n",
       "    .dataframe tbody tr th {\n",
       "        vertical-align: top;\n",
       "    }\n",
       "\n",
       "    .dataframe thead th {\n",
       "        text-align: right;\n",
       "    }\n",
       "</style>\n",
       "<table border=\"1\" class=\"dataframe\">\n",
       "  <thead>\n",
       "    <tr style=\"text-align: right;\">\n",
       "      <th></th>\n",
       "      <th>professional_id</th>\n",
       "      <th>day_count</th>\n",
       "      <th>available_day_count</th>\n",
       "      <th>availability_rate</th>\n",
       "    </tr>\n",
       "  </thead>\n",
       "  <tbody>\n",
       "    <tr>\n",
       "      <th>0</th>\n",
       "      <td>5</td>\n",
       "      <td>366</td>\n",
       "      <td>359</td>\n",
       "      <td>0.980874</td>\n",
       "    </tr>\n",
       "    <tr>\n",
       "      <th>1</th>\n",
       "      <td>19</td>\n",
       "      <td>366</td>\n",
       "      <td>14</td>\n",
       "      <td>0.038251</td>\n",
       "    </tr>\n",
       "    <tr>\n",
       "      <th>2</th>\n",
       "      <td>21</td>\n",
       "      <td>366</td>\n",
       "      <td>188</td>\n",
       "      <td>0.513661</td>\n",
       "    </tr>\n",
       "    <tr>\n",
       "      <th>3</th>\n",
       "      <td>24</td>\n",
       "      <td>366</td>\n",
       "      <td>29</td>\n",
       "      <td>0.079235</td>\n",
       "    </tr>\n",
       "    <tr>\n",
       "      <th>4</th>\n",
       "      <td>28</td>\n",
       "      <td>366</td>\n",
       "      <td>1</td>\n",
       "      <td>0.002732</td>\n",
       "    </tr>\n",
       "    <tr>\n",
       "      <th>...</th>\n",
       "      <td>...</td>\n",
       "      <td>...</td>\n",
       "      <td>...</td>\n",
       "      <td>...</td>\n",
       "    </tr>\n",
       "    <tr>\n",
       "      <th>3319</th>\n",
       "      <td>12027</td>\n",
       "      <td>4</td>\n",
       "      <td>4</td>\n",
       "      <td>1.000000</td>\n",
       "    </tr>\n",
       "    <tr>\n",
       "      <th>3320</th>\n",
       "      <td>12028</td>\n",
       "      <td>5</td>\n",
       "      <td>0</td>\n",
       "      <td>0.000000</td>\n",
       "    </tr>\n",
       "    <tr>\n",
       "      <th>3321</th>\n",
       "      <td>12029</td>\n",
       "      <td>3</td>\n",
       "      <td>3</td>\n",
       "      <td>1.000000</td>\n",
       "    </tr>\n",
       "    <tr>\n",
       "      <th>3322</th>\n",
       "      <td>12032</td>\n",
       "      <td>1</td>\n",
       "      <td>0</td>\n",
       "      <td>0.000000</td>\n",
       "    </tr>\n",
       "    <tr>\n",
       "      <th>3323</th>\n",
       "      <td>12034</td>\n",
       "      <td>1</td>\n",
       "      <td>1</td>\n",
       "      <td>1.000000</td>\n",
       "    </tr>\n",
       "  </tbody>\n",
       "</table>\n",
       "<p>3324 rows × 4 columns</p>\n",
       "</div>"
      ],
      "text/plain": [
       "      professional_id  day_count  available_day_count  availability_rate\n",
       "0                   5        366                  359           0.980874\n",
       "1                  19        366                   14           0.038251\n",
       "2                  21        366                  188           0.513661\n",
       "3                  24        366                   29           0.079235\n",
       "4                  28        366                    1           0.002732\n",
       "...               ...        ...                  ...                ...\n",
       "3319            12027          4                    4           1.000000\n",
       "3320            12028          5                    0           0.000000\n",
       "3321            12029          3                    3           1.000000\n",
       "3322            12032          1                    0           0.000000\n",
       "3323            12034          1                    1           1.000000\n",
       "\n",
       "[3324 rows x 4 columns]"
      ]
     },
     "execution_count": 51,
     "metadata": {},
     "output_type": "execute_result"
    }
   ],
   "source": [
    "# Mark available days\n",
    "filtered_availability[\"is_available\"] = filtered_availability[\"availability_hour\"] > 0\n",
    "\n",
    "# Calculate overall availability rate per provider\n",
    "overall_availability = (\n",
    "    filtered_availability\n",
    "    .groupby(\"professional_id\")\n",
    "    .agg(\n",
    "        day_count=(\"partition_date\", \"count\"),\n",
    "        available_day_count=(\"is_available\", \"sum\")\n",
    "    )\n",
    "    .assign(availability_rate = lambda x: x[\"available_day_count\"] / x[\"day_count\"])\n",
    "    .reset_index()\n",
    ")\n",
    "overall_availability"
   ]
  },
  {
   "cell_type": "markdown",
   "id": "2faafec1",
   "metadata": {},
   "source": [
    "### <b>5. Distribution of Service Provider by Availability Rate in 2024</b>"
   ]
  },
  {
   "cell_type": "markdown",
   "id": "b89cdf38",
   "metadata": {},
   "source": [
    "#### <b>5.1 Seaborn</b>"
   ]
  },
  {
   "cell_type": "code",
   "execution_count": 55,
   "id": "0ae00247",
   "metadata": {},
   "outputs": [
    {
     "data": {
      "image/png": "[encoded data removed]",
      "text/plain": [
       "<Figure size 1000x600 with 1 Axes>"
      ]
     },
     "metadata": {},
     "output_type": "display_data"
    }
   ],
   "source": [
    "#import seaborn as sns\n",
    "#import matplotlib.pyplot as plt\n",
    "\n",
    "plt.figure(figsize=(10, 6))\n",
    "sns.histplot(overall_availability['availability_rate'], bins=30, kde=True, color='skyblue')\n",
    "plt.title('Distribution of Service Providers by Availability Rate', fontsize=14)\n",
    "plt.xlabel('Availability Rate (%)', fontsize=12)\n",
    "plt.ylabel('Number of Service Providers', fontsize=12)\n",
    "plt.grid(True)\n",
    "plt.tight_layout()\n",
    "plt.show()"
   ]
  },
  {
   "cell_type": "markdown",
   "id": "76fc6901",
   "metadata": {},
   "source": [
    "#### <b>5.2 Plotly</b>\n",
    "Use Plotly for more interactivity"
   ]
  },
  {
   "cell_type": "code",
   "execution_count": 56,
   "id": "3cfe5270",
   "metadata": {},
   "outputs": [
    {
     "data": {
      "application/vnd.plotly.v1+json": {
       "config": {
        "plotlyServerURL": "https://plot.ly"
       },
       "data": [
        {
         "bingroup": "x",
         "hovertemplate": "availability_rate=%{x}<br>count=%{y}<extra></extra>",
         "legendgroup": "",
         "marker": {
          "color": "#636efa",
          "pattern": {
           "shape": ""
          }
         },
         "name": "",
         "nbinsx": 30,
         "orientation": "v",
         "showlegend": false,
         "type": "histogram",
         "x": {
          "bdata": "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",
          "dtype": "f8"
         },
         "xaxis": "x",
         "yaxis": "y"
        }
       ],
       "layout": {
        "bargap": 0.05,
        "barmode": "relative",
        "legend": {
         "tracegroupgap": 0
        },
        "template": {
         "data": {
          "bar": [
           {
            "error_x": {
             "color": "#2a3f5f"
            },
            "error_y": {
             "color": "#2a3f5f"
            },
            "marker": {
             "line": {
              "color": "#E5ECF6",
              "width": 0.5
             },
             "pattern": {
              "fillmode": "overlay",
              "size": 10,
              "solidity": 0.2
             }
            },
            "type": "bar"
           }
          ],
          "barpolar": [
           {
            "marker": {
             "line": {
              "color": "#E5ECF6",
              "width": 0.5
             },
             "pattern": {
              "fillmode": "overlay",
              "size": 10,
              "solidity": 0.2
             }
            },
            "type": "barpolar"
           }
          ],
          "carpet": [
           {
            "aaxis": {
             "endlinecolor": "#2a3f5f",
             "gridcolor": "white",
             "linecolor": "white",
             "minorgridcolor": "white",
             "startlinecolor": "#2a3f5f"
            },
            "baxis": {
             "endlinecolor": "#2a3f5f",
             "gridcolor": "white",
             "linecolor": "white",
             "minorgridcolor": "white",
             "startlinecolor": "#2a3f5f"
            },
            "type": "carpet"
           }
          ],
          "choropleth": [
           {
            "colorbar": {
             "outlinewidth": 0,
             "ticks": ""
            },
            "type": "choropleth"
           }
          ],
          "contour": [
           {
            "colorbar": {
             "outlinewidth": 0,
             "ticks": ""
            },
            "colorscale": [
             [
              0,
              "#0d0887"
             ],
             [
              0.1111111111111111,
              "#46039f"
             ],
             [
              0.2222222222222222,
              "#7201a8"
             ],
             [
              0.3333333333333333,
              "#9c179e"
             ],
             [
              0.4444444444444444,
              "#bd3786"
             ],
             [
              0.5555555555555556,
              "#d8576b"
             ],
             [
              0.6666666666666666,
              "#ed7953"
             ],
             [
              0.7777777777777778,
              "#fb9f3a"
             ],
             [
              0.8888888888888888,
              "#fdca26"
             ],
             [
              1,
              "#f0f921"
             ]
            ],
            "type": "contour"
           }
          ],
          "contourcarpet": [
           {
            "colorbar": {
             "outlinewidth": 0,
             "ticks": ""
            },
            "type": "contourcarpet"
           }
          ],
          "heatmap": [
           {
            "colorbar": {
             "outlinewidth": 0,
             "ticks": ""
            },
            "colorscale": [
             [
              0,
              "#0d0887"
             ],
             [
              0.1111111111111111,
              "#46039f"
             ],
             [
              0.2222222222222222,
              "#7201a8"
             ],
             [
              0.3333333333333333,
              "#9c179e"
             ],
             [
              0.4444444444444444,
              "#bd3786"
             ],
             [
              0.5555555555555556,
              "#d8576b"
             ],
             [
              0.6666666666666666,
              "#ed7953"
             ],
             [
              0.7777777777777778,
              "#fb9f3a"
             ],
             [
              0.8888888888888888,
              "#fdca26"
             ],
             [
              1,
              "#f0f921"
             ]
            ],
            "type": "heatmap"
           }
          ],
          "histogram": [
           {
            "marker": {
             "pattern": {
              "fillmode": "overlay",
              "size": 10,
              "solidity": 0.2
             }
            },
            "type": "histogram"
           }
          ],
          "histogram2d": [
           {
            "colorbar": {
             "outlinewidth": 0,
             "ticks": ""
            },
            "colorscale": [
             [
              0,
              "#0d0887"
             ],
             [
              0.1111111111111111,
              "#46039f"
             ],
             [
              0.2222222222222222,
              "#7201a8"
             ],
             [
              0.3333333333333333,
              "#9c179e"
             ],
             [
              0.4444444444444444,
              "#bd3786"
             ],
             [
              0.5555555555555556,
              "#d8576b"
             ],
             [
              0.6666666666666666,
              "#ed7953"
             ],
             [
              0.7777777777777778,
              "#fb9f3a"
             ],
             [
              0.8888888888888888,
              "#fdca26"
             ],
             [
              1,
              "#f0f921"
             ]
            ],
            "type": "histogram2d"
           }
          ],
          "histogram2dcontour": [
           {
            "colorbar": {
             "outlinewidth": 0,
             "ticks": ""
            },
            "colorscale": [
             [
              0,
              "#0d0887"
             ],
             [
              0.1111111111111111,
              "#46039f"
             ],
             [
              0.2222222222222222,
              "#7201a8"
             ],
             [
              0.3333333333333333,
              "#9c179e"
             ],
             [
              0.4444444444444444,
              "#bd3786"
             ],
             [
              0.5555555555555556,
              "#d8576b"
             ],
             [
              0.6666666666666666,
              "#ed7953"
             ],
             [
              0.7777777777777778,
              "#fb9f3a"
             ],
             [
              0.8888888888888888,
              "#fdca26"
             ],
             [
              1,
              "#f0f921"
             ]
            ],
            "type": "histogram2dcontour"
           }
          ],
          "mesh3d": [
           {
            "colorbar": {
             "outlinewidth": 0,
             "ticks": ""
            },
            "type": "mesh3d"
           }
          ],
          "parcoords": [
           {
            "line": {
             "colorbar": {
              "outlinewidth": 0,
              "ticks": ""
             }
            },
            "type": "parcoords"
           }
          ],
          "pie": [
           {
            "automargin": true,
            "type": "pie"
           }
          ],
          "scatter": [
           {
            "fillpattern": {
             "fillmode": "overlay",
             "size": 10,
             "solidity": 0.2
            },
            "type": "scatter"
           }
          ],
          "scatter3d": [
           {
            "line": {
             "colorbar": {
              "outlinewidth": 0,
              "ticks": ""
             }
            },
            "marker": {
             "colorbar": {
              "outlinewidth": 0,
              "ticks": ""
             }
            },
            "type": "scatter3d"
           }
          ],
          "scattercarpet": [
           {
            "marker": {
             "colorbar": {
              "outlinewidth": 0,
              "ticks": ""
             }
            },
            "type": "scattercarpet"
           }
          ],
          "scattergeo": [
           {
            "marker": {
             "colorbar": {
              "outlinewidth": 0,
              "ticks": ""
             }
            },
            "type": "scattergeo"
           }
          ],
          "scattergl": [
           {
            "marker": {
             "colorbar": {
              "outlinewidth": 0,
              "ticks": ""
             }
            },
            "type": "scattergl"
           }
          ],
          "scattermap": [
           {
            "marker": {
             "colorbar": {
              "outlinewidth": 0,
              "ticks": ""
             }
            },
            "type": "scattermap"
           }
          ],
          "scattermapbox": [
           {
            "marker": {
             "colorbar": {
              "outlinewidth": 0,
              "ticks": ""
             }
            },
            "type": "scattermapbox"
           }
          ],
          "scatterpolar": [
           {
            "marker": {
             "colorbar": {
              "outlinewidth": 0,
              "ticks": ""
             }
            },
            "type": "scatterpolar"
           }
          ],
          "scatterpolargl": [
           {
            "marker": {
             "colorbar": {
              "outlinewidth": 0,
              "ticks": ""
             }
            },
            "type": "scatterpolargl"
           }
          ],
          "scatterternary": [
           {
            "marker": {
             "colorbar": {
              "outlinewidth": 0,
              "ticks": ""
             }
            },
            "type": "scatterternary"
           }
          ],
          "surface": [
           {
            "colorbar": {
             "outlinewidth": 0,
             "ticks": ""
            },
            "colorscale": [
             [
              0,
              "#0d0887"
             ],
             [
              0.1111111111111111,
              "#46039f"
             ],
             [
              0.2222222222222222,
              "#7201a8"
             ],
             [
              0.3333333333333333,
              "#9c179e"
             ],
             [
              0.4444444444444444,
              "#bd3786"
             ],
             [
              0.5555555555555556,
              "#d8576b"
             ],
             [
              0.6666666666666666,
              "#ed7953"
             ],
             [
              0.7777777777777778,
              "#fb9f3a"
             ],
             [
              0.8888888888888888,
              "#fdca26"
             ],
             [
              1,
              "#f0f921"
             ]
            ],
            "type": "surface"
           }
          ],
          "table": [
           {
            "cells": {
             "fill": {
              "color": "#EBF0F8"
             },
             "line": {
              "color": "white"
             }
            },
            "header": {
             "fill": {
              "color": "#C8D4E3"
             },
             "line": {
              "color": "white"
             }
            },
            "type": "table"
           }
          ]
         },
         "layout": {
          "annotationdefaults": {
           "arrowcolor": "#2a3f5f",
           "arrowhead": 0,
           "arrowwidth": 1
          },
          "autotypenumbers": "strict",
          "coloraxis": {
           "colorbar": {
            "outlinewidth": 0,
            "ticks": ""
           }
          },
          "colorscale": {
           "diverging": [
            [
             0,
             "#8e0152"
            ],
            [
             0.1,
             "#c51b7d"
            ],
            [
             0.2,
             "#de77ae"
            ],
            [
             0.3,
             "#f1b6da"
            ],
            [
             0.4,
             "#fde0ef"
            ],
            [
             0.5,
             "#f7f7f7"
            ],
            [
             0.6,
             "#e6f5d0"
            ],
            [
             0.7,
             "#b8e186"
            ],
            [
             0.8,
             "#7fbc41"
            ],
            [
             0.9,
             "#4d9221"
            ],
            [
             1,
             "#276419"
            ]
           ],
           "sequential": [
            [
             0,
             "#0d0887"
            ],
            [
             0.1111111111111111,
             "#46039f"
            ],
            [
             0.2222222222222222,
             "#7201a8"
            ],
            [
             0.3333333333333333,
             "#9c179e"
            ],
            [
             0.4444444444444444,
             "#bd3786"
            ],
            [
             0.5555555555555556,
             "#d8576b"
            ],
            [
             0.6666666666666666,
             "#ed7953"
            ],
            [
             0.7777777777777778,
             "#fb9f3a"
            ],
            [
             0.8888888888888888,
             "#fdca26"
            ],
            [
             1,
             "#f0f921"
            ]
           ],
           "sequentialminus": [
            [
             0,
             "#0d0887"
            ],
            [
             0.1111111111111111,
             "#46039f"
            ],
            [
             0.2222222222222222,
             "#7201a8"
            ],
            [
             0.3333333333333333,
             "#9c179e"
            ],
            [
             0.4444444444444444,
             "#bd3786"
            ],
            [
             0.5555555555555556,
             "#d8576b"
            ],
            [
             0.6666666666666666,
             "#ed7953"
            ],
            [
             0.7777777777777778,
             "#fb9f3a"
            ],
            [
             0.8888888888888888,
             "#fdca26"
            ],
            [
             1,
             "#f0f921"
            ]
           ]
          },
          "colorway": [
           "#636efa",
           "#EF553B",
           "#00cc96",
           "#ab63fa",
           "#FFA15A",
           "#19d3f3",
           "#FF6692",
           "#B6E880",
           "#FF97FF",
           "#FECB52"
          ],
          "font": {
           "color": "#2a3f5f"
          },
          "geo": {
           "bgcolor": "white",
           "lakecolor": "white",
           "landcolor": "#E5ECF6",
           "showlakes": true,
           "showland": true,
           "subunitcolor": "white"
          },
          "hoverlabel": {
           "align": "left"
          },
          "hovermode": "closest",
          "mapbox": {
           "style": "light"
          },
          "paper_bgcolor": "white",
          "plot_bgcolor": "#E5ECF6",
          "polar": {
           "angularaxis": {
            "gridcolor": "white",
            "linecolor": "white",
            "ticks": ""
           },
           "bgcolor": "#E5ECF6",
           "radialaxis": {
            "gridcolor": "white",
            "linecolor": "white",
            "ticks": ""
           }
          },
          "scene": {
           "xaxis": {
            "backgroundcolor": "#E5ECF6",
            "gridcolor": "white",
            "gridwidth": 2,
            "linecolor": "white",
            "showbackground": true,
            "ticks": "",
            "zerolinecolor": "white"
           },
           "yaxis": {
            "backgroundcolor": "#E5ECF6",
            "gridcolor": "white",
            "gridwidth": 2,
            "linecolor": "white",
            "showbackground": true,
            "ticks": "",
            "zerolinecolor": "white"
           },
           "zaxis": {
            "backgroundcolor": "#E5ECF6",
            "gridcolor": "white",
            "gridwidth": 2,
            "linecolor": "white",
            "showbackground": true,
            "ticks": "",
            "zerolinecolor": "white"
           }
          },
          "shapedefaults": {
           "line": {
            "color": "#2a3f5f"
           }
          },
          "ternary": {
           "aaxis": {
            "gridcolor": "white",
            "linecolor": "white",
            "ticks": ""
           },
           "baxis": {
            "gridcolor": "white",
            "linecolor": "white",
            "ticks": ""
           },
           "bgcolor": "#E5ECF6",
           "caxis": {
            "gridcolor": "white",
            "linecolor": "white",
            "ticks": ""
           }
          },
          "title": {
           "x": 0.05
          },
          "xaxis": {
           "automargin": true,
           "gridcolor": "white",
           "linecolor": "white",
           "ticks": "",
           "title": {
            "standoff": 15
           },
           "zerolinecolor": "white",
           "zerolinewidth": 2
          },
          "yaxis": {
           "automargin": true,
           "gridcolor": "white",
           "linecolor": "white",
           "ticks": "",
           "title": {
            "standoff": 15
           },
           "zerolinecolor": "white",
           "zerolinewidth": 2
          }
         }
        },
        "title": {
         "text": "Distribution of Service Providers by Availability Rate"
        },
        "xaxis": {
         "anchor": "y",
         "domain": [
          0,
          1
         ],
         "title": {
          "text": "Availability Rate (%)"
         }
        },
        "yaxis": {
         "anchor": "x",
         "domain": [
          0,
          1
         ],
         "title": {
          "text": "Number of Service Providers"
         }
        }
       }
      }
     },
     "metadata": {},
     "output_type": "display_data"
    }
   ],
   "source": [
    "#import plotly.express as px\n",
    "\n",
    "fig = px.histogram(overall_availability, x='availability_rate',\n",
    "                   nbins=30, title='Distribution of Service Providers by Availability Rate')\n",
    "fig.update_layout(xaxis_title='Availability Rate (%)',\n",
    "                  yaxis_title='Number of Service Providers',\n",
    "                  bargap=0.05)\n",
    "fig.show()"
   ]
  },
  {
   "cell_type": "markdown",
   "id": "a019f76c",
   "metadata": {},
   "source": [
    "#### <b>5.3 Matplotlib</b>"
   ]
  },
  {
   "cell_type": "code",
   "execution_count": 57,
   "id": "b04aaa45",
   "metadata": {},
   "outputs": [
    {
     "data": {
      "image/png": "[encoded data removed]",
      "text/plain": [
       "<Figure size 1000x600 with 1 Axes>"
      ]
     },
     "metadata": {},
     "output_type": "display_data"
    }
   ],
   "source": [
    "#import matplotlib.pyplot as plt\n",
    "#import numpy as np\n",
    "\n",
    "# Calculate histogram\n",
    "counts, bin_edges = np.histogram(overall_availability['availability_rate'], bins=30, density=True)\n",
    "bin_centers = 0.5 * (bin_edges[1:] + bin_edges[:-1])\n",
    "\n",
    "# Plot as line\n",
    "plt.figure(figsize=(10, 6))\n",
    "plt.plot(bin_centers, counts, linestyle='-', marker='', color='royalblue')\n",
    "plt.title('Distribution of Service Providers by Availability Rate (Line Plot)', fontsize=14)\n",
    "plt.xlabel('Availability Rate (%)', fontsize=12)\n",
    "plt.ylabel('Density', fontsize=12)\n",
    "plt.grid(True)\n",
    "plt.tight_layout()\n",
    "plt.show()"
   ]
  },
  {
   "cell_type": "markdown",
   "id": "23d83f9f",
   "metadata": {},
   "source": [
    "### <b><u>Executive Summary</u></b>\n",
    "\n",
    "From this distribution we observe:\n",
    "<ul>\n",
    "    <li>A considerable number of service providers has little-to-no availability (~0% availability rate).</li>\n",
    "    <li>Conversely, a significant number of service providers has near full availability (~100% availability rate).</li>\n",
    "    <li>Between these extremes, a significant number of service providers emerges without strong breakpoints.</li>\n",
    "</ul>"
   ]
  }
 ],
 "metadata": {
  "kernelspec": {
   "display_name": "venv",
   "language": "python",
   "name": "python3"
  },
  "language_info": {
   "codemirror_mode": {
    "name": "ipython",
    "version": 3
   },
   "file_extension": ".py",
   "mimetype": "text/x-python",
   "name": "python",
   "nbconvert_exporter": "python",
   "pygments_lexer": "ipython3",
   "version": "3.13.3"
  }
 },
 "nbformat": 4,
 "nbformat_minor": 5
}
